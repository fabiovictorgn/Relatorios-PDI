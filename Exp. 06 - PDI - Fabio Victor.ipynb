{
 "cells": [
  {
   "cell_type": "markdown",
   "id": "s--xSKto6ROF",
   "metadata": {
    "id": "s--xSKto6ROF"
   },
   "source": [
    "<img src=\"https://www.anped.org.br/sites/default/files/images/ufcg-lateral.png\" width=\"780\" height=\"240\" align=\"center\"/>"
   ]
  },
  {
   "cell_type": "markdown",
   "id": "xhmLTfiy6ROd",
   "metadata": {
    "id": "xhmLTfiy6ROd"
   },
   "source": [
    "## Centro de Engenharia Elétrica e Informática\n",
    "## Departamento de Engenharia Elétrica\n",
    "## Disciplina: Int. ao Processamento de Imagem Digital e Visão Computacional\n",
    "## Professora: Luciana Veloso\n",
    "## Aluno(a): Fabio Victor Galdino Nascimento"
   ]
  },
  {
   "cell_type": "markdown",
   "id": "VLKOKOUd6ROg",
   "metadata": {
    "id": "VLKOKOUd6ROg"
   },
   "source": [
    "# Experimento 06: Redes Neurais Artificiais"
   ]
  },
  {
   "cell_type": "code",
   "execution_count": 2,
   "id": "y2Z-Olnu6ROj",
   "metadata": {
    "id": "y2Z-Olnu6ROj"
   },
   "outputs": [],
   "source": [
    "import os                                             # Operational System para manipulação de arquivos.\n",
    "import cv2                                            # OpenCV para manipulação de imagens.\n",
    "import numpy as np                                    # Numpy para manipulação de matrizes e arrays.\n",
    "import matplotlib.pyplot as plt                       # Pyplot para plotagem de gráficos e imagens.\n",
    "from sklearn.model_selection import train_test_split  # Função para particionamento dos dados\n",
    "\n",
    "from tensorflow.keras.models import Sequential        # Classe de modelos sequenciais para construir as redes neurais.\n",
    "from tensorflow.keras.layers import Dense, Input      # Camada de neurônios densamente conectados.\n",
    "from tensorflow.keras.optimizers import SGD           # Otimizador \"Descida do Gradiente com Momento\".\n",
    "from tensorflow.keras.datasets import boston_housing  # Dataset utilizado nesse experimento."
   ]
  },
  {
   "cell_type": "markdown",
   "id": "NoAvcRq16ROp",
   "metadata": {
    "id": "NoAvcRq16ROp"
   },
   "source": [
    "## 1. Banco de Dados\n",
    "\n",
    "* Vamos utilizar um banco de dados do catálogo de datasets do Keras, que é disponibilizado como uma função pronta;\n",
    "\n",
    "* Cada instância do banco de dados corresponde a um conjunto de 13 valores referentes a características de subúrbios de Boston na década de 1970, a exemplo de taxa de crimes, imposto sobre propriedade, etc;\n",
    "\n",
    "* Esses valores serão utilizados para calcular o valor mediano das residências no respectivo subúrbio em um problema de regressão, de modo que iremos mapear um vetor de entrada com 13 valores em um vetor de saída com 1 único elemento;\n",
    "\n",
    "* O banco de dados contém 506 valores divididos em 404 instâncias de treino e 102 de teste;\n",
    "\n",
    "* Uma descrição mais detalhada dos valores de entrada pode ser vista em http://lib.stat.cmu.edu/datasets/boston, onde os valores são descritos na ordem que aparecem;"
   ]
  },
  {
   "cell_type": "markdown",
   "id": "GNjeFza96ROq",
   "metadata": {
    "id": "GNjeFza96ROq"
   },
   "source": [
    "### 1.1 Organização do banco de dados\n",
    "\n",
    "* Comumente os dados utilizados no treinamento de modelos de inteligência artificial reservam a primeira dimensão para controlar a amostra e espalham o tipo de dado utilizado nas demais dimensões do tensor. \n",
    "\n",
    "\n",
    "* Nesse caso, os nossos dados são vetores de características unidimensionais (1D), de modo que são organizados em tensores bidimensionais (2D) com formato: **dados.shape = (amostras, características)**\n",
    "    * O i-ésimo exemplo pode ser acessado a partir de: **exemplo = dados[i]**\n",
    "    * A j-ésima característica dos exemplos pode ser acessada a partir de: **caracteristica = dados[:, j]**\n",
    "    * Porções do tensor podem ser acessadas utilizando fatiamento, por exemplo:\n",
    "        * primeiros_5_exemplos = dados[:5]\n",
    "        * caracteristicas_9a13 = dados[8:13]\n",
    "        \n",
    "\n",
    "* Lembrem-se que a contagem de índices em Python começa em 0 e só é inclusiva no primeiro elemento:\n",
    "    * **:5** produz os índices **0, 1, 2, 3, 4** \n",
    "    * **8:13** produz os índices **8, 9, 10, 11, 12** \n",
    "        "
   ]
  },
  {
   "cell_type": "markdown",
   "id": "a6QA8HGh6ROu",
   "metadata": {
    "id": "a6QA8HGh6ROu"
   },
   "source": [
    "* O banco de dados pode ser carregado utilizando:\n",
    "    * **(train_data, train_targets), (test_data, test_targets) = boston_housing.load_data()**\n",
    "    * train_data é um tensor com as entradas do conjunto de treino;\n",
    "    * test_data é um tensor com as entradas do conjunto de teste;\n",
    "    * train_targets é um tensor com os gabaritos do conjunto de treino;\n",
    "    * test_targets é um tensor com os gabaritos do conjunto de teste;"
   ]
  },
  {
   "cell_type": "markdown",
   "id": "LI7TQhoP6ROx",
   "metadata": {
    "id": "LI7TQhoP6ROx"
   },
   "source": [
    "**a. O código abaixo carrega o banco de dados, acesse alguns exemplos de treinamento e de teste e veja suas dimensões.**\n",
    "\n",
    "* Use índices entre **[0, 404)** para os dados de treino e entre **[0, 102)** para os de teste."
   ]
  },
  {
   "cell_type": "code",
   "execution_count": 3,
   "id": "IxajX1sr6RO1",
   "metadata": {
    "id": "IxajX1sr6RO1"
   },
   "outputs": [],
   "source": [
    "(train_data, train_targets), (test_data, test_targets) = boston_housing.load_data()"
   ]
  },
  {
   "cell_type": "code",
   "execution_count": 4,
   "id": "iSDNumLjWFse",
   "metadata": {
    "colab": {
     "base_uri": "https://localhost:8080/"
    },
    "id": "iSDNumLjWFse",
    "outputId": "411a73d6-dad0-4dc7-d436-c8001737926c"
   },
   "outputs": [
    {
     "data": {
      "text/plain": [
       "array([9.2520e-02, 3.0000e+01, 4.9300e+00, 0.0000e+00, 4.2800e-01,\n",
       "       6.6060e+00, 4.2200e+01, 6.1899e+00, 6.0000e+00, 3.0000e+02,\n",
       "       1.6600e+01, 3.8378e+02, 7.3700e+00])"
      ]
     },
     "execution_count": 4,
     "metadata": {},
     "output_type": "execute_result"
    }
   ],
   "source": [
    "train_data[202]"
   ]
  },
  {
   "cell_type": "code",
   "execution_count": 5,
   "id": "rsPU3G3QWeaR",
   "metadata": {
    "colab": {
     "base_uri": "https://localhost:8080/"
    },
    "id": "rsPU3G3QWeaR",
    "outputId": "542f3d42-1cad-4a71-9d91-176641659d73"
   },
   "outputs": [
    {
     "data": {
      "text/plain": [
       "array([1.4103e-01, 0.0000e+00, 1.3920e+01, 0.0000e+00, 4.3700e-01,\n",
       "       5.7900e+00, 5.8000e+01, 6.3200e+00, 4.0000e+00, 2.8900e+02,\n",
       "       1.6000e+01, 3.9690e+02, 1.5840e+01])"
      ]
     },
     "execution_count": 5,
     "metadata": {},
     "output_type": "execute_result"
    }
   ],
   "source": [
    "test_data[51]"
   ]
  },
  {
   "cell_type": "code",
   "execution_count": 6,
   "id": "MpcsLrWYW9z7",
   "metadata": {
    "colab": {
     "base_uri": "https://localhost:8080/"
    },
    "id": "MpcsLrWYW9z7",
    "outputId": "58efc1d9-f1e4-4ead-e086-6a8fc1d6ffd5"
   },
   "outputs": [
    {
     "data": {
      "text/plain": [
       "(404, 13)"
      ]
     },
     "execution_count": 6,
     "metadata": {},
     "output_type": "execute_result"
    }
   ],
   "source": [
    "train_data.shape"
   ]
  },
  {
   "cell_type": "code",
   "execution_count": 7,
   "id": "czZ8izNIXI4V",
   "metadata": {
    "colab": {
     "base_uri": "https://localhost:8080/"
    },
    "id": "czZ8izNIXI4V",
    "outputId": "31c4b708-5b7e-4d23-f963-3e830cb8694d"
   },
   "outputs": [
    {
     "data": {
      "text/plain": [
       "(102, 13)"
      ]
     },
     "execution_count": 7,
     "metadata": {},
     "output_type": "execute_result"
    }
   ],
   "source": [
    "test_data.shape"
   ]
  },
  {
   "cell_type": "markdown",
   "id": "ufGZe6eY6RO3",
   "metadata": {
    "id": "ufGZe6eY6RO3"
   },
   "source": [
    "**b. Verifique as dimensões e as faixas de valores de cada característica nos vetores de entrada dos conjuntos de treino e de teste. A faixa de valores das características são semelhantes? E os dados de treino e de teste?**\n",
    "\n",
    "* Encontre os valores mínimo/máximo além da média (np.mean) e da variância (np.var) de cada uma das 13 características.\n",
    "* Sugestão: leia sobre o parâmetro \"axis\" na documentação das funções np.min, np.max e np.mean."
   ]
  },
  {
   "cell_type": "code",
   "execution_count": 8,
   "id": "F2DAIkL66RO5",
   "metadata": {
    "colab": {
     "base_uri": "https://localhost:8080/"
    },
    "id": "F2DAIkL66RO5",
    "outputId": "4539c817-da7b-4640-e73a-c091a3bf9ba7"
   },
   "outputs": [
    {
     "name": "stdout",
     "output_type": "stream",
     "text": [
      "Coluna: 0 | Limites: (min: 0.01 , max: 88.98) | Média: 3.75 | Variância: 85.18\n",
      "Coluna: 1 | Limites: (min: 0.00 , max: 100.00) | Média: 11.48 | Variância: 563.51\n",
      "Coluna: 2 | Limites: (min: 0.46 , max: 27.74) | Média: 11.10 | Variância: 46.28\n",
      "Coluna: 3 | Limites: (min: 0.00 , max: 1.00) | Média: 0.06 | Variância: 0.06\n",
      "Coluna: 4 | Limites: (min: 0.39 , max: 0.87) | Média: 0.56 | Variância: 0.01\n",
      "Coluna: 5 | Limites: (min: 3.56 , max: 8.72) | Média: 6.27 | Variância: 0.50\n",
      "Coluna: 6 | Limites: (min: 2.90 , max: 100.00) | Média: 69.01 | Variância: 778.75\n",
      "Coluna: 7 | Limites: (min: 1.13 , max: 10.71) | Média: 3.74 | Variância: 4.11\n",
      "Coluna: 8 | Limites: (min: 1.00 , max: 24.00) | Média: 9.44 | Variância: 75.47\n",
      "Coluna: 9 | Limites: (min: 188.00 , max: 711.00) | Média: 405.90 | Variância: 27611.97\n",
      "Coluna: 10 | Limites: (min: 12.60 , max: 22.00) | Média: 18.48 | Variância: 4.83\n",
      "Coluna: 11 | Limites: (min: 0.32 , max: 396.90) | Média: 354.78 | Variância: 8834.99\n",
      "Coluna: 12 | Limites: (min: 1.73 , max: 37.97) | Média: 12.74 | Variância: 52.50\n"
     ]
    }
   ],
   "source": [
    "#Conjunto Treino\n",
    "linhas, colunas = train_data.shape\n",
    "\n",
    "for i in range(colunas):\n",
    "    print('Coluna: {} | Limites: (min: {:.2f} , max: {:.2f}) | Média: {:.2f} | Variância: {:.2f}'.format(i,np.min(train_data,axis = 0)[i], \n",
    "    np.max(train_data,axis = 0)[i], np.mean(train_data, axis = 0)[i], np.var(train_data,axis=0)[i]))"
   ]
  },
  {
   "cell_type": "code",
   "execution_count": 9,
   "id": "kxRsRk6nf_xi",
   "metadata": {
    "colab": {
     "base_uri": "https://localhost:8080/"
    },
    "id": "kxRsRk6nf_xi",
    "outputId": "92232d06-1e9b-4c62-f7df-4c011b379963"
   },
   "outputs": [
    {
     "name": "stdout",
     "output_type": "stream",
     "text": [
      "Coluna: 0 | Limites: (min: 0.01 , max: 25.05) | Média: 3.09 | Variância: 28.59\n",
      "Coluna: 1 | Limites: (min: 0.00 , max: 90.00) | Média: 10.90 | Variância: 460.83\n",
      "Coluna: 2 | Limites: (min: 1.22 , max: 27.74) | Média: 11.26 | Variância: 49.69\n",
      "Coluna: 3 | Limites: (min: 0.00 , max: 1.00) | Média: 0.10 | Variância: 0.09\n",
      "Coluna: 4 | Limites: (min: 0.39 , max: 0.87) | Média: 0.54 | Variância: 0.01\n",
      "Coluna: 5 | Limites: (min: 4.88 , max: 8.78) | Média: 6.35 | Variância: 0.45\n",
      "Coluna: 6 | Limites: (min: 6.00 , max: 100.00) | Média: 66.85 | Variância: 834.77\n",
      "Coluna: 7 | Limites: (min: 1.47 , max: 12.13) | Média: 4.01 | Variância: 5.61\n",
      "Coluna: 8 | Limites: (min: 1.00 , max: 24.00) | Média: 9.98 | Variância: 76.20\n",
      "Coluna: 9 | Limites: (min: 187.00 , max: 711.00) | Média: 417.50 | Variância: 31158.88\n",
      "Coluna: 10 | Limites: (min: 13.00 , max: 21.20) | Média: 18.37 | Variância: 4.07\n",
      "Coluna: 11 | Limites: (min: 24.65 , max: 396.90) | Média: 364.16 | Variância: 6201.47\n",
      "Coluna: 12 | Limites: (min: 1.92 , max: 31.99) | Média: 12.31 | Variância: 44.39\n"
     ]
    }
   ],
   "source": [
    "#Conjunto Teste\n",
    "\n",
    "for i in range(colunas):\n",
    "    print('Coluna: {} | Limites: (min: {:.2f} , max: {:.2f}) | Média: {:.2f} | Variância: {:.2f}'.format(i,np.min(test_data,axis = 0)[i], \n",
    "    np.max(test_data,axis = 0)[i], np.mean(test_data, axis = 0)[i], np.var(test_data,axis=0)[i]))"
   ]
  },
  {
   "cell_type": "markdown",
   "id": "RMNKQIy-xO8h",
   "metadata": {
    "id": "RMNKQIy-xO8h"
   },
   "source": [
    "<font color = 'red'>\n",
    "    \n",
    "**Comentário:**\n",
    "\n",
    "É possivel observar que alguns parametros são parecidos, porém ainda não são bons valores para possuir um resultado desejado.\n",
    "    \n",
    "</font>"
   ]
  },
  {
   "cell_type": "markdown",
   "id": "Wagspy6I6RO6",
   "metadata": {
    "id": "Wagspy6I6RO6"
   },
   "source": [
    "**c. Verifique as dimensões e as faixas de valores dos gabaritos dos conjuntos de treino e de teste. Os valores encontrados são semelhantes?**"
   ]
  },
  {
   "cell_type": "code",
   "execution_count": 10,
   "id": "Au0aW4oX6RO8",
   "metadata": {
    "colab": {
     "base_uri": "https://localhost:8080/"
    },
    "id": "Au0aW4oX6RO8",
    "outputId": "8886fc1d-ddc9-4d97-9d50-fa5e166b6e29"
   },
   "outputs": [
    {
     "data": {
      "text/plain": [
       "(404,)"
      ]
     },
     "execution_count": 10,
     "metadata": {},
     "output_type": "execute_result"
    }
   ],
   "source": [
    "train_targets.shape"
   ]
  },
  {
   "cell_type": "code",
   "execution_count": 11,
   "id": "uX4zTgDcpgj4",
   "metadata": {
    "colab": {
     "base_uri": "https://localhost:8080/"
    },
    "id": "uX4zTgDcpgj4",
    "outputId": "c2535ccf-5f75-43b8-99fc-586230ee559c"
   },
   "outputs": [
    {
     "data": {
      "text/plain": [
       "(102,)"
      ]
     },
     "execution_count": 11,
     "metadata": {},
     "output_type": "execute_result"
    }
   ],
   "source": [
    "test_targets.shape"
   ]
  },
  {
   "cell_type": "code",
   "execution_count": 12,
   "id": "3eOzJfZQpmCO",
   "metadata": {
    "colab": {
     "base_uri": "https://localhost:8080/"
    },
    "id": "3eOzJfZQpmCO",
    "outputId": "c25b6dc9-c83e-42c6-e27e-b040706db4f2"
   },
   "outputs": [
    {
     "name": "stdout",
     "output_type": "stream",
     "text": [
      "Limites: (min: 5.00 , max: 50.00) | Média: 22.40 | Variância: 84.62\n"
     ]
    }
   ],
   "source": [
    "#Gabaraito do conjunto treino\n",
    "\n",
    "print('Limites: (min: {:.2f} , max: {:.2f}) | Média: {:.2f} | Variância: {:.2f}'.format(np.min(train_targets), \n",
    "np.max(train_targets), np.mean(train_targets), np.var(train_targets)))"
   ]
  },
  {
   "cell_type": "code",
   "execution_count": 13,
   "id": "XsEVx7S0rBnj",
   "metadata": {
    "colab": {
     "base_uri": "https://localhost:8080/"
    },
    "id": "XsEVx7S0rBnj",
    "outputId": "ca7d518c-7648-4231-8a96-68df12947887"
   },
   "outputs": [
    {
     "name": "stdout",
     "output_type": "stream",
     "text": [
      "Limites: (min: 5.60 , max: 50.00) | Média: 23.08 | Variância: 83.24\n"
     ]
    }
   ],
   "source": [
    "#Gabaraito do conjunto teste\n",
    "\n",
    "print('Limites: (min: {:.2f} , max: {:.2f}) | Média: {:.2f} | Variância: {:.2f}'.format(np.min(test_targets), \n",
    "np.max(test_targets), np.mean(test_targets), np.var(test_targets)))"
   ]
  },
  {
   "cell_type": "markdown",
   "id": "QpRx8G3Zs0H2",
   "metadata": {
    "id": "QpRx8G3Zs0H2"
   },
   "source": [
    "<font color = 'red'>\n",
    "\n",
    "**Comentário:**\n",
    "\n",
    "Podemos observar que os valores da média e variância são próximos, mas não são iguais. Enquanto os limites são os mesmos. \n",
    "    \n",
    " </font> "
   ]
  },
  {
   "cell_type": "markdown",
   "id": "ZiYm2_g_6RO-",
   "metadata": {
    "id": "ZiYm2_g_6RO-"
   },
   "source": [
    "### 1.2 Pre-processamento dos dados\n",
    "\n",
    "* Dados cujas características assumem diferentes faixas de valores muitas vezes são problemáticos para o aprendizado dos modelos e podem reduzir a velocidade de convergência ou até mesmo limitar as capacidades do modelo final.\n",
    "\n",
    "* Nesse sentido, uma prática comum é a normalização dos dados antes do treinamento, que geralmente é feito por característica em forma da subtração da média e divisão pelo desvio padrão, o que faz com que os dados resultantes tenham média 0 e variância 1.\n",
    "\n",
    "* Um ponto muito importante é que a normalização deve ser feita partir dos mesmos valores em todos os conjuntos, ou seja, os dados são normalizados segundo informações do conjunto de treino.\n",
    "\n",
    "* Na prática não temos como calcular a média e variância real, mas se os dados de treino são significativos os seus valores são suficientes."
   ]
  },
  {
   "cell_type": "code",
   "execution_count": 14,
   "id": "fe6yucu-6RO_",
   "metadata": {
    "id": "fe6yucu-6RO_"
   },
   "outputs": [],
   "source": [
    "# Calcula a média do conjunto de treino\n",
    "mean = train_data.mean(axis=0)\n",
    "\n",
    "# Calcula o desvio padrão do conjunto de treino\n",
    "std = train_data.std(axis=0)\n",
    "\n",
    "# Normaliza os dados de treino\n",
    "train_data -= mean\n",
    "train_data /= std\n",
    "\n",
    "# Normaliza os dados de teste\n",
    "test_data -= mean\n",
    "test_data /= std"
   ]
  },
  {
   "cell_type": "markdown",
   "id": "itx5PkRG6RPA",
   "metadata": {
    "id": "itx5PkRG6RPA"
   },
   "source": [
    "**d. Repita o item b para os dados normalizados. O que se observa quantos aos valores de média e variância para os dados de treino e teste? Comente a sua interpretação sobre as diferenças observadas.**"
   ]
  },
  {
   "cell_type": "code",
   "execution_count": 15,
   "id": "3k3459Rj6RPB",
   "metadata": {
    "colab": {
     "base_uri": "https://localhost:8080/"
    },
    "id": "3k3459Rj6RPB",
    "outputId": "fc87eb6b-b3d4-4dca-b0f3-305001bfd59a"
   },
   "outputs": [
    {
     "name": "stdout",
     "output_type": "stream",
     "text": [
      "Coluna: 0 | Limites: (min: -0.41 , max: 9.23) | Média: -0.00 | Variância: 1.00\n",
      "Coluna: 1 | Limites: (min: -0.48 , max: 3.73) | Média: 0.00 | Variância: 1.00\n",
      "Coluna: 2 | Limites: (min: -1.56 , max: 2.45) | Média: 0.00 | Variância: 1.00\n",
      "Coluna: 3 | Limites: (min: -0.26 , max: 3.89) | Média: -0.00 | Variância: 1.00\n",
      "Coluna: 4 | Limites: (min: -1.47 , max: 2.68) | Média: -0.00 | Variância: 1.00\n",
      "Coluna: 5 | Limites: (min: -3.82 , max: 3.47) | Média: 0.00 | Variância: 1.00\n",
      "Coluna: 6 | Limites: (min: -2.37 , max: 1.11) | Média: 0.00 | Variância: 1.00\n",
      "Coluna: 7 | Limites: (min: -1.29 , max: 3.44) | Média: 0.00 | Variância: 1.00\n",
      "Coluna: 8 | Limites: (min: -0.97 , max: 1.68) | Média: 0.00 | Variância: 1.00\n",
      "Coluna: 9 | Limites: (min: -1.31 , max: 1.84) | Média: -0.00 | Variância: 1.00\n",
      "Coluna: 10 | Limites: (min: -2.67 , max: 1.60) | Média: 0.00 | Variância: 1.00\n",
      "Coluna: 11 | Limites: (min: -3.77 , max: 0.45) | Média: 0.00 | Variância: 1.00\n",
      "Coluna: 12 | Limites: (min: -1.52 , max: 3.48) | Média: 0.00 | Variância: 1.00\n"
     ]
    }
   ],
   "source": [
    "#Conjunto Treino\n",
    "linhas, colunas = train_data.shape\n",
    "\n",
    "for i in range(colunas):\n",
    "    print('Coluna: {} | Limites: (min: {:.2f} , max: {:.2f}) | Média: {:.2f} | Variância: {:.2f}'.format(i,np.min(train_data,axis = 0)[i], \n",
    "    np.max(train_data,axis = 0)[i], np.mean(train_data, axis = 0)[i], np.var(train_data,axis=0)[i]))"
   ]
  },
  {
   "cell_type": "code",
   "execution_count": 16,
   "id": "mKxdkf1B2VXF",
   "metadata": {
    "colab": {
     "base_uri": "https://localhost:8080/"
    },
    "id": "mKxdkf1B2VXF",
    "outputId": "b3d925c3-016d-41be-debc-22131ea8733d"
   },
   "outputs": [
    {
     "name": "stdout",
     "output_type": "stream",
     "text": [
      "Coluna: 0 | Limites: (min: -0.40 , max: 2.31) | Média: -0.07 | Variância: 0.34\n",
      "Coluna: 1 | Limites: (min: -0.48 , max: 3.31) | Média: -0.02 | Variância: 0.82\n",
      "Coluna: 2 | Limites: (min: -1.45 , max: 2.45) | Média: 0.02 | Variância: 1.07\n",
      "Coluna: 3 | Limites: (min: -0.26 , max: 3.89) | Média: 0.15 | Variância: 1.52\n",
      "Coluna: 4 | Limites: (min: -1.41 , max: 2.68) | Média: -0.11 | Variância: 0.87\n",
      "Coluna: 5 | Limites: (min: -1.96 , max: 3.54) | Média: 0.12 | Variância: 0.89\n",
      "Coluna: 6 | Limites: (min: -2.26 , max: 1.11) | Média: -0.08 | Variância: 1.07\n",
      "Coluna: 7 | Limites: (min: -1.12 , max: 4.14) | Média: 0.13 | Variância: 1.36\n",
      "Coluna: 8 | Limites: (min: -0.97 , max: 1.68) | Média: 0.06 | Variância: 1.01\n",
      "Coluna: 9 | Limites: (min: -1.32 , max: 1.84) | Média: 0.07 | Variância: 1.13\n",
      "Coluna: 10 | Limites: (min: -2.49 , max: 1.24) | Média: -0.05 | Variância: 0.84\n",
      "Coluna: 11 | Limites: (min: -3.51 , max: 0.45) | Média: 0.10 | Variância: 0.70\n",
      "Coluna: 12 | Limites: (min: -1.49 , max: 2.66) | Média: -0.06 | Variância: 0.85\n"
     ]
    }
   ],
   "source": [
    "#Conjunto Teste\n",
    "\n",
    "for i in range(colunas):\n",
    "    print('Coluna: {} | Limites: (min: {:.2f} , max: {:.2f}) | Média: {:.2f} | Variância: {:.2f}'.format(i,np.min(test_data,axis = 0)[i], \n",
    "    np.max(test_data,axis = 0)[i], np.mean(test_data, axis = 0)[i], np.var(test_data,axis=0)[i]))"
   ]
  },
  {
   "cell_type": "markdown",
   "id": "F45IMh350NPm",
   "metadata": {
    "id": "F45IMh350NPm"
   },
   "source": [
    "<font color = 'red'>\n",
    "\n",
    "**Comentário:**\n",
    "\n",
    "Observamos a mudança nos valores da média e variância. Dessa forma, será bem mais fácil trabalhar com os dados, já que a faixa de valores está mais controlada. \n",
    "    \n",
    "</font>"
   ]
  },
  {
   "cell_type": "markdown",
   "id": "p6z_P-x86RPC",
   "metadata": {
    "id": "p6z_P-x86RPC"
   },
   "source": [
    "Agora vamos criar uma partição de validação a partir do conjunto de treino para realizar uma validação cruzada. Vamos utilizar a função **train_test_split**, que separa dados e os seus respectivos gabaritos segundo uma fração especificada."
   ]
  },
  {
   "cell_type": "code",
   "execution_count": 17,
   "id": "kf97lDwI6RPC",
   "metadata": {
    "colab": {
     "base_uri": "https://localhost:8080/"
    },
    "id": "kf97lDwI6RPC",
    "outputId": "80cfdb1d-8e28-404d-d6af-8f7419d2adbc"
   },
   "outputs": [
    {
     "name": "stdout",
     "output_type": "stream",
     "text": [
      "treino: (302, 13) (302,)\n",
      "validação: (102, 13) (102,)\n"
     ]
    }
   ],
   "source": [
    "# Fração escolhida para separar o mesmo número de instâncias do conjunto de testes\n",
    "data_frac = test_data.shape[0] / train_data.shape[0]\n",
    "\n",
    "# Criação do conjunto de validação\n",
    "train_data, val_data, train_targets, val_targets = train_test_split(train_data,             # Dados de treino\n",
    "                                                                    train_targets,          # Gabaritos de treino\n",
    "                                                                    test_size = data_frac,  # Proporção de dados p/ validação\n",
    "                                                                    random_state=42)        # Semente para garantir consistencia nos resultados\n",
    "\n",
    "print(\"treino:\", train_data.shape, train_targets.shape)\n",
    "print(\"validação:\", val_data.shape, val_targets.shape)"
   ]
  },
  {
   "cell_type": "markdown",
   "id": "ko_v0QIn6RPE",
   "metadata": {
    "id": "ko_v0QIn6RPE"
   },
   "source": [
    "### 1.2 Construindo o modelo\n",
    "\n",
    "Para construir o modelo usaremos a classe **Sequential**, que possibilita a construção de modelos sequenciais de forma bastante simples.\n",
    "* A construção do modelo é feita a partir do seu instanciamento como objeto da classe seguido de chamadas à função **add()** para adicionar camadas.\n",
    "* Como estamos construindo apenas Redes Neurais Artificiais por enquanto, vamos utilizar apenas as camadas **Dense** e **Input**.\n",
    "    * A camada Input cria a entrada da rede com **Input( shape = None )**\n",
    "        * shape corresponde ao formato do tensor de entrada, no nosso caso será o número de características do nosso banco de dados (13);\n",
    "    * A camada Dense pode ser chamada com **Dense( n_unidades, activation = 'linear' )**\n",
    "        * n_unidades corresponde ao número de neurônios da camada;\n",
    "        * activation corresponde à função de ativação utilizada na camada;\n",
    "* Algumas funções de ativação disponíveis são:\n",
    "    * \"linear\"\n",
    "    * \"relu\"\n",
    "    * \"sigmoid\"\n",
    "    * \"softmax\"\n",
    "    * \"tanh\"\n",
    "\n",
    "\n",
    "* Mais informações sobre a camada dense podem ser vistas em **https://keras.io/api/layers/core_layers/dense/**\n",
    "* Mais informações sobre as ativações disponíveis podem ser vistas em **https://keras.io/api/layers/activations/**"
   ]
  },
  {
   "cell_type": "markdown",
   "id": "P-l1RrBt6RPF",
   "metadata": {
    "id": "P-l1RrBt6RPF"
   },
   "source": [
    "**e. A função abaixo constroi um modelo de rede neural e utiliza a função summary() para apresentar um resumo das informações da rede neural produzida. Comente o que faz cada linha do código.**\n",
    "\n",
    "* Modifique parâmetros como o número de unidades de cada camada e/ou o formato do tensor de entrada e/ou o número de saídas. \n",
    "* Explique como o número de parâmetros de cada camada é calculado."
   ]
  },
  {
   "cell_type": "code",
   "execution_count": 66,
   "id": "1BbGMBYq6RPG",
   "metadata": {
    "colab": {
     "base_uri": "https://localhost:8080/"
    },
    "id": "1BbGMBYq6RPG",
    "outputId": "39b36502-c7b9-4ac1-9c79-8242f105e92a"
   },
   "outputs": [
    {
     "name": "stdout",
     "output_type": "stream",
     "text": [
      "Model: \"sequential_21\"\n",
      "_________________________________________________________________\n",
      "Layer (type)                 Output Shape              Param #   \n",
      "=================================================================\n",
      "dense_67 (Dense)             (None, 100)               1400      \n",
      "_________________________________________________________________\n",
      "dense_68 (Dense)             (None, 150)               15150     \n",
      "_________________________________________________________________\n",
      "dense_69 (Dense)             (None, 150)               22650     \n",
      "_________________________________________________________________\n",
      "dense_70 (Dense)             (None, 1)                 151       \n",
      "=================================================================\n",
      "Total params: 39,351\n",
      "Trainable params: 39,351\n",
      "Non-trainable params: 0\n",
      "_________________________________________________________________\n"
     ]
    }
   ],
   "source": [
    "def build_model( n_inputs, n_outputs ): \n",
    "    rede = Sequential()                                                       #Construção do modelo sequencial \n",
    "    rede.add( Dense( 100, activation = \"relu\", input_shape = (n_inputs, ) ) ) #Adiciona a camada Dense, e informamos o número de neurônios da camada e a função de ativação                                                                           \n",
    "                                                                              #Input cria a entrada da rede, e informamos o formato do tensor de entrada que será o número de características do nosso banco de dados \n",
    "    rede.add( Dense( 150, activation = \"relu\") )                              #Adiciona a camada Dense, e informamos o número de neurônios da camada e a função de ativação   \n",
    "    rede.add( Dense( 150, activation = \"softmax\") )                           #camada adicionada de acordo com o quesito h)\n",
    "    rede.add( Dense( n_outputs ) )                                            #Adiciona a camada Dense, dessa vez com um número de neuronios igual ao número de saída\n",
    "    return rede \n",
    "\n",
    "model = build_model( 13, 1 )                                                  #montando o modelo\n",
    "model.summary() "
   ]
  },
  {
   "cell_type": "markdown",
   "id": "g-vy4hxT6RPH",
   "metadata": {
    "id": "g-vy4hxT6RPH"
   },
   "source": [
    "**f. Nesse caso utilizamos uma saída com ativação linear. Qual seria a desvantagem de utilizar esse tipo de ativação nas demais camadas?**"
   ]
  },
  {
   "cell_type": "markdown",
   "id": "WSAUYKfoEDHM",
   "metadata": {
    "id": "WSAUYKfoEDHM"
   },
   "source": [
    "<font color = 'red'>\n",
    "\n",
    "**Resposta:**\n",
    "\n",
    "A desvantagem é que o conjunto seria a combinação linear da camada anterior, o que resultaria em uma saída limitada em uma fronteira de decisão linear.   \n",
    "    \n",
    "</font>"
   ]
  },
  {
   "cell_type": "markdown",
   "id": "HW8-e12L6RPJ",
   "metadata": {
    "id": "HW8-e12L6RPJ"
   },
   "source": [
    "Após a construção do modelo ele deve ser compilado antes que os parâmetros sejam treinados. Isso é feito utilizando a função **compile**:\n",
    "\n",
    "* **model.compile( optimizer = opt, loss = fperdas, metrics = [] )** \n",
    "    * O optimizer é o algoritmo otimizador utilizado no lugar da descida do gradiente, o Keras oferece diversas opções;\n",
    "        * Para treinar a partir da descida do gradiente utilizaremos o SGD (descida do gradiente com momento), mas setaremos esse parâmetro para 0.\n",
    "        * **opt = SGD( learning_rate = taxa_de_aprendizagem, momentum = 0 )**\n",
    "    * A função de perdas pode ser definida a partir do parâmetro loss, como este é um problema de regressão utilizaremos o erro médio quadrático: \n",
    "        * **loss = \"mse\"**\n",
    "    * Podemos passar uma lista de métricas a serem computadas durante o treinamento, nesse caso utilizaremos o erro médio absoluto:\n",
    "        * **metrics = [\"mae\"]**\n",
    "        * Note que estamos passando uma lista com uma única métrica, mas outras poderiam ser adicionadas à lista.\n",
    "         \n",
    "         \n",
    "\n",
    "* Algoritmos otimizadores populares são o Adam (**https://keras.io/api/optimizers/adam/**) e o RMSprop(**https://keras.io/api/optimizers/rmsprop/**)\n",
    "* Mais informações sobre os otimizadores disponíveis podem ser vistas em **https://keras.io/api/optimizers/**\n",
    "* Mais informações sobre as funções de perdas disponíveis podem ser vistas em **https://keras.io/api/losses/**\n",
    "* Mais informações sobre as métricas disponíveis podem ser vistas em **https://keras.io/api/metrics/**\n",
    "\n"
   ]
  },
  {
   "cell_type": "code",
   "execution_count": 67,
   "id": "pSsbfYEH6RPK",
   "metadata": {
    "colab": {
     "base_uri": "https://localhost:8080/"
    },
    "id": "pSsbfYEH6RPK",
    "outputId": "221686a5-7ed7-4e4c-ba36-d82e3147db2e"
   },
   "outputs": [
    {
     "name": "stdout",
     "output_type": "stream",
     "text": [
      "Model: \"sequential_22\"\n",
      "_________________________________________________________________\n",
      "Layer (type)                 Output Shape              Param #   \n",
      "=================================================================\n",
      "dense_71 (Dense)             (None, 100)               1400      \n",
      "_________________________________________________________________\n",
      "dense_72 (Dense)             (None, 150)               15150     \n",
      "_________________________________________________________________\n",
      "dense_73 (Dense)             (None, 150)               22650     \n",
      "_________________________________________________________________\n",
      "dense_74 (Dense)             (None, 1)                 151       \n",
      "=================================================================\n",
      "Total params: 39,351\n",
      "Trainable params: 39,351\n",
      "Non-trainable params: 0\n",
      "_________________________________________________________________\n"
     ]
    }
   ],
   "source": [
    "model = build_model( 13, 1 )\n",
    "model.compile( optimizer = SGD(learning_rate=0.001, momentum=0.0), loss = \"mse\", metrics=[\"mae\"] )\n",
    "model.summary()"
   ]
  },
  {
   "cell_type": "markdown",
   "id": "eyZ7VTT96RPM",
   "metadata": {
    "id": "eyZ7VTT96RPM"
   },
   "source": [
    "### 1.3 Treinando o modelo\n",
    "\n",
    "O treinamento é realizado a partir da função **fit**, que recebe dados de treino e de validação além de hiperparâmetros como o número de épocas e o tamanho dos lotes de dados (batchsize).\n",
    "\n",
    "* **hist = model.fit( x = None, y = None, epochs = 1, batchsize = None, validation_data = None, verbose = \"auto\")**\n",
    "    * x corresponde aos dados de treino;\n",
    "    * y corresponde aos gabaritos de treino;\n",
    "    * epochs corresponde ao número de épocas de treinamento;\n",
    "    * batchsize corresponde ao tamanho dos lotes entregues à rede de cada vez;\n",
    "    * validation_data corresponde a uma tupla ( val_data, val_targets ) com os dados de validação;\n",
    "    * verbose indica como a função deve reportar os resultados:\n",
    "        * 0: modo silencioso, nenhum retorno em formato de texto;\n",
    "        * 1: retorno a cada época e barra de progresso;\n",
    "        * 2: retorno a cada época sem barra de progresso;\n",
    "    * hist é um dicionário de retorno com os valores de loss e das métricas computadas para treino e validação;"
   ]
  },
  {
   "cell_type": "code",
   "execution_count": 68,
   "id": "rGETOId06RPN",
   "metadata": {
    "colab": {
     "base_uri": "https://localhost:8080/"
    },
    "id": "rGETOId06RPN",
    "outputId": "6aa2cafc-01a0-4641-b7f8-71d491d57d1d",
    "scrolled": true
   },
   "outputs": [
    {
     "name": "stdout",
     "output_type": "stream",
     "text": [
      "Epoch 1/80\n",
      "302/302 [==============================] - 1s 2ms/step - loss: 393.0611 - mae: 17.1969 - val_loss: 176.1723 - val_mae: 10.6883\n",
      "Epoch 2/80\n",
      "302/302 [==============================] - 0s 2ms/step - loss: 179.6270 - mae: 10.1951 - val_loss: 88.7682 - val_mae: 6.4203\n",
      "Epoch 3/80\n",
      "302/302 [==============================] - 0s 1ms/step - loss: 116.6575 - mae: 7.7164 - val_loss: 68.0209 - val_mae: 5.3160\n",
      "Epoch 4/80\n",
      "302/302 [==============================] - 0s 1ms/step - loss: 98.0137 - mae: 6.9827 - val_loss: 64.7412 - val_mae: 5.3608\n",
      "Epoch 5/80\n",
      "302/302 [==============================] - 0s 1ms/step - loss: 90.8295 - mae: 6.8542 - val_loss: 62.5880 - val_mae: 5.4671\n",
      "Epoch 6/80\n",
      "302/302 [==============================] - 1s 2ms/step - loss: 81.8256 - mae: 6.4457 - val_loss: 57.7010 - val_mae: 5.3570\n",
      "Epoch 7/80\n",
      "302/302 [==============================] - 0s 1ms/step - loss: 74.7018 - mae: 6.2054 - val_loss: 52.8491 - val_mae: 5.1726\n",
      "Epoch 8/80\n",
      "302/302 [==============================] - 0s 1ms/step - loss: 66.7968 - mae: 5.8570 - val_loss: 47.5592 - val_mae: 4.8754\n",
      "Epoch 9/80\n",
      "302/302 [==============================] - 1s 2ms/step - loss: 60.1480 - mae: 5.5387 - val_loss: 43.5365 - val_mae: 4.6490\n",
      "Epoch 10/80\n",
      "302/302 [==============================] - 1s 2ms/step - loss: 56.1935 - mae: 5.3039 - val_loss: 46.4403 - val_mae: 4.9496\n",
      "Epoch 11/80\n",
      "302/302 [==============================] - 1s 2ms/step - loss: 51.7005 - mae: 5.0314 - val_loss: 39.6795 - val_mae: 4.4841\n",
      "Epoch 12/80\n",
      "302/302 [==============================] - 1s 2ms/step - loss: 51.8181 - mae: 5.0449 - val_loss: 43.2936 - val_mae: 4.7599\n",
      "Epoch 13/80\n",
      "302/302 [==============================] - 1s 2ms/step - loss: 46.8286 - mae: 4.7748 - val_loss: 37.4956 - val_mae: 4.2486\n",
      "Epoch 14/80\n",
      "302/302 [==============================] - 1s 2ms/step - loss: 42.9930 - mae: 4.5091 - val_loss: 33.5539 - val_mae: 4.0240\n",
      "Epoch 15/80\n",
      "302/302 [==============================] - 1s 2ms/step - loss: 39.5889 - mae: 4.2789 - val_loss: 29.6308 - val_mae: 3.7743\n",
      "Epoch 16/80\n",
      "302/302 [==============================] - 1s 2ms/step - loss: 35.9342 - mae: 4.0761 - val_loss: 23.3553 - val_mae: 3.2156\n",
      "Epoch 17/80\n",
      "302/302 [==============================] - 1s 2ms/step - loss: 34.9462 - mae: 3.9984 - val_loss: 23.5526 - val_mae: 3.2560\n",
      "Epoch 18/80\n",
      "302/302 [==============================] - 1s 2ms/step - loss: 29.1908 - mae: 3.6167 - val_loss: 21.1453 - val_mae: 3.1935\n",
      "Epoch 19/80\n",
      "302/302 [==============================] - 0s 2ms/step - loss: 28.8019 - mae: 3.6653 - val_loss: 22.6642 - val_mae: 3.1216\n",
      "Epoch 20/80\n",
      "302/302 [==============================] - 1s 2ms/step - loss: 25.2045 - mae: 3.3648 - val_loss: 21.8981 - val_mae: 2.99420s - loss: 23.2508 - mae: 3.\n",
      "Epoch 21/80\n",
      "302/302 [==============================] - 1s 2ms/step - loss: 22.9748 - mae: 3.2325 - val_loss: 18.7650 - val_mae: 2.9409\n",
      "Epoch 22/80\n",
      "302/302 [==============================] - 1s 2ms/step - loss: 21.9136 - mae: 3.1701 - val_loss: 20.5349 - val_mae: 2.9835\n",
      "Epoch 23/80\n",
      "302/302 [==============================] - 1s 2ms/step - loss: 20.7456 - mae: 3.1226 - val_loss: 26.6660 - val_mae: 3.2690\n",
      "Epoch 24/80\n",
      "302/302 [==============================] - 0s 1ms/step - loss: 19.4326 - mae: 3.0203 - val_loss: 16.3262 - val_mae: 2.6224\n",
      "Epoch 25/80\n",
      "302/302 [==============================] - 0s 1ms/step - loss: 23.0096 - mae: 3.2886 - val_loss: 19.6327 - val_mae: 2.8359\n",
      "Epoch 26/80\n",
      "302/302 [==============================] - 0s 1ms/step - loss: 18.3739 - mae: 2.9482 - val_loss: 32.7631 - val_mae: 3.4091\n",
      "Epoch 27/80\n",
      "302/302 [==============================] - 0s 1ms/step - loss: 17.0247 - mae: 2.8594 - val_loss: 24.2030 - val_mae: 2.8400\n",
      "Epoch 28/80\n",
      "302/302 [==============================] - 0s 1ms/step - loss: 15.8957 - mae: 2.7710 - val_loss: 30.3651 - val_mae: 2.9666\n",
      "Epoch 29/80\n",
      "302/302 [==============================] - 0s 1ms/step - loss: 15.9386 - mae: 2.7216 - val_loss: 28.5609 - val_mae: 2.8717\n",
      "Epoch 30/80\n",
      "302/302 [==============================] - 0s 1ms/step - loss: 14.2689 - mae: 2.5878 - val_loss: 31.9496 - val_mae: 3.1653\n",
      "Epoch 31/80\n",
      "302/302 [==============================] - 0s 1ms/step - loss: 13.3085 - mae: 2.4928 - val_loss: 25.4576 - val_mae: 2.7611\n",
      "Epoch 32/80\n",
      "302/302 [==============================] - 0s 1ms/step - loss: 14.5655 - mae: 2.6540 - val_loss: 27.0645 - val_mae: 2.8760\n",
      "Epoch 33/80\n",
      "302/302 [==============================] - 0s 1ms/step - loss: 13.2271 - mae: 2.5407 - val_loss: 30.7188 - val_mae: 3.1947\n",
      "Epoch 34/80\n",
      "302/302 [==============================] - 0s 1ms/step - loss: 13.4880 - mae: 2.6274 - val_loss: 18.1753 - val_mae: 2.5031\n",
      "Epoch 35/80\n",
      "302/302 [==============================] - 0s 1ms/step - loss: 12.1505 - mae: 2.4319 - val_loss: 26.9724 - val_mae: 2.7815\n",
      "Epoch 36/80\n",
      "302/302 [==============================] - 0s 1ms/step - loss: 12.0395 - mae: 2.4812 - val_loss: 16.2747 - val_mae: 2.4170\n",
      "Epoch 37/80\n",
      "302/302 [==============================] - 0s 1ms/step - loss: 11.1220 - mae: 2.3636 - val_loss: 33.8311 - val_mae: 3.0416\n",
      "Epoch 38/80\n",
      "302/302 [==============================] - 0s 1ms/step - loss: 12.1144 - mae: 2.4395 - val_loss: 16.8765 - val_mae: 2.7780\n",
      "Epoch 39/80\n",
      "302/302 [==============================] - 0s 1ms/step - loss: 10.5520 - mae: 2.3240 - val_loss: 34.1548 - val_mae: 3.0395\n",
      "Epoch 40/80\n",
      "302/302 [==============================] - 0s 1ms/step - loss: 10.7095 - mae: 2.3471 - val_loss: 19.4747 - val_mae: 2.6906\n",
      "Epoch 41/80\n",
      "302/302 [==============================] - 0s 1ms/step - loss: 10.5759 - mae: 2.3305 - val_loss: 35.9206 - val_mae: 3.1239\n",
      "Epoch 42/80\n",
      "302/302 [==============================] - 0s 1ms/step - loss: 12.1584 - mae: 2.4756 - val_loss: 35.3832 - val_mae: 2.9720\n",
      "Epoch 43/80\n",
      "302/302 [==============================] - 0s 1ms/step - loss: 10.5506 - mae: 2.3665 - val_loss: 16.1230 - val_mae: 2.8776\n",
      "Epoch 44/80\n",
      "302/302 [==============================] - 0s 1ms/step - loss: 12.9409 - mae: 2.3846 - val_loss: 18.3957 - val_mae: 2.4627\n",
      "Epoch 45/80\n",
      "302/302 [==============================] - 0s 1ms/step - loss: 8.6345 - mae: 2.1235 - val_loss: 32.6402 - val_mae: 3.0876\n",
      "Epoch 46/80\n",
      "302/302 [==============================] - 0s 1ms/step - loss: 8.4810 - mae: 2.1146 - val_loss: 13.4676 - val_mae: 2.2311\n",
      "Epoch 47/80\n",
      "302/302 [==============================] - 1s 2ms/step - loss: 22.2279 - mae: 2.8642 - val_loss: 11.6827 - val_mae: 2.3279\n",
      "Epoch 48/80\n",
      "302/302 [==============================] - 1s 2ms/step - loss: 16.5910 - mae: 2.5392 - val_loss: 13.5278 - val_mae: 2.5214\n",
      "Epoch 49/80\n",
      "302/302 [==============================] - 1s 2ms/step - loss: 11.9421 - mae: 2.3729 - val_loss: 11.6125 - val_mae: 2.2666\n",
      "Epoch 50/80\n",
      "302/302 [==============================] - 0s 1ms/step - loss: 8.3289 - mae: 2.0578 - val_loss: 30.8372 - val_mae: 3.1825\n",
      "Epoch 51/80\n",
      "302/302 [==============================] - 0s 1ms/step - loss: 8.6749 - mae: 2.0626 - val_loss: 16.6349 - val_mae: 2.4965\n",
      "Epoch 52/80\n",
      "302/302 [==============================] - 0s 1ms/step - loss: 7.7363 - mae: 2.0190 - val_loss: 20.4974 - val_mae: 2.5799\n",
      "Epoch 53/80\n",
      "302/302 [==============================] - 0s 1ms/step - loss: 12.2830 - mae: 2.2883 - val_loss: 41.5815 - val_mae: 3.3219\n",
      "Epoch 54/80\n",
      "302/302 [==============================] - 0s 1ms/step - loss: 24.7517 - mae: 3.1148 - val_loss: 43.6799 - val_mae: 3.6152\n",
      "Epoch 55/80\n",
      "302/302 [==============================] - 0s 1ms/step - loss: 30.6471 - mae: 3.5624 - val_loss: 23.4898 - val_mae: 3.0711\n",
      "Epoch 56/80\n",
      "302/302 [==============================] - 0s 1ms/step - loss: 20.5591 - mae: 3.0421 - val_loss: 18.2215 - val_mae: 3.0296\n",
      "Epoch 57/80\n",
      "302/302 [==============================] - 0s 1ms/step - loss: 13.2807 - mae: 2.5637 - val_loss: 19.7468 - val_mae: 2.8029\n",
      "Epoch 58/80\n",
      "302/302 [==============================] - 0s 1ms/step - loss: 10.2098 - mae: 2.1604 - val_loss: 20.8866 - val_mae: 2.6401\n",
      "Epoch 59/80\n",
      "302/302 [==============================] - 0s 1ms/step - loss: 9.2557 - mae: 1.9723 - val_loss: 22.3795 - val_mae: 2.7679\n",
      "Epoch 60/80\n",
      "302/302 [==============================] - 0s 1ms/step - loss: 9.7747 - mae: 2.0742 - val_loss: 20.7466 - val_mae: 2.5538\n",
      "Epoch 61/80\n"
     ]
    },
    {
     "name": "stdout",
     "output_type": "stream",
     "text": [
      "302/302 [==============================] - 0s 1ms/step - loss: 9.6934 - mae: 2.0380 - val_loss: 21.0906 - val_mae: 2.8234\n",
      "Epoch 62/80\n",
      "302/302 [==============================] - 0s 1ms/step - loss: 8.6711 - mae: 1.8909 - val_loss: 20.6555 - val_mae: 2.5752\n",
      "Epoch 63/80\n",
      "302/302 [==============================] - 0s 1ms/step - loss: 8.2066 - mae: 1.8278 - val_loss: 21.4260 - val_mae: 2.7274\n",
      "Epoch 64/80\n",
      "302/302 [==============================] - 0s 1ms/step - loss: 7.9527 - mae: 1.7591 - val_loss: 21.6748 - val_mae: 2.6850\n",
      "Epoch 65/80\n",
      "302/302 [==============================] - 0s 1ms/step - loss: 8.3173 - mae: 1.8173 - val_loss: 22.2983 - val_mae: 2.7426\n",
      "Epoch 66/80\n",
      "302/302 [==============================] - 0s 1ms/step - loss: 5.8166 - mae: 1.7393 - val_loss: 21.4273 - val_mae: 2.6281\n",
      "Epoch 67/80\n",
      "302/302 [==============================] - 0s 1ms/step - loss: 5.8408 - mae: 1.7166 - val_loss: 22.6900 - val_mae: 2.7951\n",
      "Epoch 68/80\n",
      "302/302 [==============================] - 0s 1ms/step - loss: 5.0319 - mae: 1.5808 - val_loss: 21.3027 - val_mae: 2.5514\n",
      "Epoch 69/80\n",
      "302/302 [==============================] - 0s 1ms/step - loss: 5.1781 - mae: 1.5904 - val_loss: 26.7864 - val_mae: 3.3758\n",
      "Epoch 70/80\n",
      "302/302 [==============================] - 0s 1ms/step - loss: 7.2500 - mae: 1.6852 - val_loss: 35.3050 - val_mae: 3.0668\n",
      "Epoch 71/80\n",
      "302/302 [==============================] - 0s 1ms/step - loss: 6.4862 - mae: 1.8563 - val_loss: 31.7712 - val_mae: 3.0034\n",
      "Epoch 72/80\n",
      "302/302 [==============================] - 0s 1ms/step - loss: 6.0595 - mae: 1.6953 - val_loss: 18.7319 - val_mae: 2.4258\n",
      "Epoch 73/80\n",
      "302/302 [==============================] - 0s 1ms/step - loss: 5.3469 - mae: 1.6456 - val_loss: 20.8957 - val_mae: 2.4760\n",
      "Epoch 74/80\n",
      "302/302 [==============================] - 0s 1ms/step - loss: 5.3908 - mae: 1.6164 - val_loss: 24.6663 - val_mae: 2.7198\n",
      "Epoch 75/80\n",
      "302/302 [==============================] - 0s 1ms/step - loss: 9.2969 - mae: 1.7814 - val_loss: 18.5724 - val_mae: 2.6401\n",
      "Epoch 76/80\n",
      "302/302 [==============================] - 0s 1ms/step - loss: 4.5097 - mae: 1.5310 - val_loss: 19.3071 - val_mae: 2.5852\n",
      "Epoch 77/80\n",
      "302/302 [==============================] - 0s 1ms/step - loss: 4.6893 - mae: 1.5338 - val_loss: 20.3020 - val_mae: 2.5187\n",
      "Epoch 78/80\n",
      "302/302 [==============================] - 0s 1ms/step - loss: 4.6736 - mae: 1.5236 - val_loss: 20.3182 - val_mae: 2.5536\n",
      "Epoch 79/80\n",
      "302/302 [==============================] - 0s 1ms/step - loss: 4.0006 - mae: 1.3911 - val_loss: 18.4322 - val_mae: 2.4102\n",
      "Epoch 80/80\n",
      "302/302 [==============================] - 0s 1ms/step - loss: 4.1117 - mae: 1.4319 - val_loss: 19.1646 - val_mae: 2.4063\n"
     ]
    }
   ],
   "source": [
    "hist = model.fit( x = train_data, \n",
    "                  y = train_targets, \n",
    "                  epochs = 80, \n",
    "                  batch_size = 1, \n",
    "                  validation_data = ( val_data, val_targets ), \n",
    "                  verbose = 1)"
   ]
  },
  {
   "cell_type": "code",
   "execution_count": 69,
   "id": "OWsTVS6G6RPO",
   "metadata": {
    "colab": {
     "base_uri": "https://localhost:8080/",
     "height": 530
    },
    "id": "OWsTVS6G6RPO",
    "outputId": "124fc37f-ef6a-4415-d94a-ffc50fa8d30e"
   },
   "outputs": [
    {
     "data": {
      "text/plain": [
       "<matplotlib.legend.Legend at 0x1fd5c1149d0>"
      ]
     },
     "execution_count": 69,
     "metadata": {},
     "output_type": "execute_result"
    },
    {
     "data": {
      "image/png": "[encoded data removed]",
      "text/plain": [
       "<Figure size 1152x576 with 2 Axes>"
      ]
     },
     "metadata": {
      "needs_background": "light"
     },
     "output_type": "display_data"
    }
   ],
   "source": [
    "# Plotando os resultados obtidos\n",
    "fig, axes = plt.subplots(1, 2, squeeze = False, figsize = (16,8))\n",
    "\n",
    "history_dict = hist.history\n",
    "\n",
    "# Loss - MSE\n",
    "train_loss_values = history_dict[\"loss\"]\n",
    "val_loss_values = history_dict[\"val_loss\"]\n",
    "\n",
    "# Epochs\n",
    "epochs = range(1, len(train_loss_values) + 1)\n",
    "\n",
    "# Metrica - MAE\n",
    "train_mae_values = history_dict[\"mae\"]\n",
    "val_mae_values = history_dict[\"val_mae\"]\n",
    "\n",
    "ax = axes.flat[0]\n",
    "ax.plot(epochs, train_loss_values, \"r\", label = \"Training MSE\")\n",
    "ax.plot(epochs, val_loss_values, \"b\", label = \"Validation MSE\")\n",
    "ax.set_title(\"Training and Validation MSE\")\n",
    "ax.set_xlabel(\"Epochs\")\n",
    "ax.set_ylabel(\"MSE\")\n",
    "ax.legend()\n",
    "\n",
    "ax = axes.flat[1]\n",
    "ax.plot(epochs, train_mae_values, \"r\", label=\"Training MAE\")\n",
    "ax.plot(epochs, val_mae_values, \"b\", label=\"Validation MAE\")\n",
    "ax.set_title(\"Training and Validation MAE\")\n",
    "ax.set_xlabel(\"Epochs\")\n",
    "ax.set_ylabel(\"MSE\")\n",
    "ax.legend()"
   ]
  },
  {
   "cell_type": "markdown",
   "id": "IDae0lEH6RPP",
   "metadata": {
    "id": "IDae0lEH6RPP"
   },
   "source": [
    "**g. Comente os resultados obtidos nos gráficos acima. Houve overfitting? Se sim, o que pode ser feito para melhorar a qualidade do modelo?**"
   ]
  },
  {
   "cell_type": "markdown",
   "id": "2MtApXHBlDWk",
   "metadata": {
    "id": "2MtApXHBlDWk"
   },
   "source": [
    "<font color = 'red'>\n",
    "\n",
    "**Resposta:**\n",
    "\n",
    "O que desejamos é que os gráficos sejam os mais parecidos o possível, para que não ocorra um sobre ajuste. Nesse caso houve overfitting, já que a curva de validação não decresceu tanto, quanto a de treinamento. Poderíamos evitar o overfitting com a redução do número de variáveis, regularização, entre outros.      \n",
    "    \n",
    "</font>"
   ]
  },
  {
   "cell_type": "markdown",
   "id": "gmna8qK36RPQ",
   "metadata": {
    "id": "gmna8qK36RPQ"
   },
   "source": [
    "**h. Modifique hiperparâmetros do modelo como o número de camadas, as funções de ativação, o número de épocas realizas e o tamanho dos lotes. Comente os resultados obtidos a partir das mudanças realizadas.**"
   ]
  },
  {
   "cell_type": "markdown",
   "id": "Hwh6rZTtlE-H",
   "metadata": {
    "id": "Hwh6rZTtlE-H"
   },
   "source": [
    "<font color = 'red'>\n",
    "\n",
    "**Resposta:**\n",
    "\n",
    "As mudanças mais significantes foram após a criação de uma nova camada com a função de ativação softmax, onde diminuiu o sobre ajuste. Outro ponto foi que aumentando o valor das épocas, o sobre ajuste também aumentava.   \n",
    "    \n",
    "</font>"
   ]
  },
  {
   "cell_type": "markdown",
   "id": "rUG4x_zJ6RPS",
   "metadata": {
    "id": "rUG4x_zJ6RPS"
   },
   "source": [
    "### 1.4 Teste do modelo\n",
    "\n",
    "O teste do modelo pode ser realizado a partir da função **evaluate**, que recebe os dados de treino e retorna o valor de loss calculado para esse conjunto e os valores de cada métrica da lista fornecida durante a compilação do modelo. \n",
    "\n",
    "* É uma prática comum realizar ajustes no modelo com base no conjunto de validação e só utilizar o conjunto de testes após a definição dos hiperparâmetros definitivos.\n",
    "* Como os hiperparâmetros são ajustados a partir dos resultados obtidos para o conjunto de validação, o modelo pode acabar. sobreajustando aos dados de validação, então é interessante mudar os dados desse conjunto com frequência.\n",
    "* Para mudar os dados de validação basta alterar a semente na função train_test_split.\n",
    "* Crie um novo modelo do zero após a realização de mudanças nos conjuntos de treino/validação."
   ]
  },
  {
   "cell_type": "code",
   "execution_count": 70,
   "id": "q93KRy376RPT",
   "metadata": {
    "colab": {
     "base_uri": "https://localhost:8080/"
    },
    "id": "q93KRy376RPT",
    "outputId": "e92fb03d-40ad-4763-9dc3-6ba793147960"
   },
   "outputs": [
    {
     "name": "stdout",
     "output_type": "stream",
     "text": [
      "4/4 [==============================] - 0s 3ms/step - loss: 21.8907 - mae: 2.8576\n",
      "Erro médio absoluto de teste: $2857.63\n"
     ]
    }
   ],
   "source": [
    "test_mse, test_mae = model.evaluate( test_data, test_targets)\n",
    "\n",
    "# Observa-se que os dados de saída são normalizados em milhares de dólares, \n",
    "# então é necessário multiplicar por 1000 para obter os valores absolutos\n",
    "print(\"Erro médio absoluto de teste: ${:.2f}\".format(1000*test_mae))"
   ]
  },
  {
   "cell_type": "markdown",
   "id": "zdPrwi326RPT",
   "metadata": {
    "id": "zdPrwi326RPT"
   },
   "source": [
    "**i. Verifique novamente a faixa de valores dos gabaritos no banco de dados. Considerando a extensão dessa faixa de valores, pode-se dizer que as predições do modelo são significativas?**"
   ]
  },
  {
   "cell_type": "code",
   "execution_count": 71,
   "id": "-_jh-XzI6RPV",
   "metadata": {
    "colab": {
     "base_uri": "https://localhost:8080/"
    },
    "id": "-_jh-XzI6RPV",
    "outputId": "212a5303-3029-4d27-f417-1abd6b7d9090"
   },
   "outputs": [
    {
     "name": "stdout",
     "output_type": "stream",
     "text": [
      "Limites: (min: 5.00 , max: 50.00) | Média: 22.87 | Variância: 90.36\n"
     ]
    }
   ],
   "source": [
    "#Gabaraito do conjunto treino\n",
    "\n",
    "print('Limites: (min: {:.2f} , max: {:.2f}) | Média: {:.2f} | Variância: {:.2f}'.format(np.min(train_targets,axis = 0), \n",
    "np.max(train_targets), np.mean(train_targets), np.var(train_targets)))"
   ]
  },
  {
   "cell_type": "code",
   "execution_count": 72,
   "id": "S0qpzWDXLtZJ",
   "metadata": {
    "colab": {
     "base_uri": "https://localhost:8080/"
    },
    "id": "S0qpzWDXLtZJ",
    "outputId": "c62c03ee-e769-42bd-8baf-b29d92d36f04"
   },
   "outputs": [
    {
     "name": "stdout",
     "output_type": "stream",
     "text": [
      "Limites: (min: 5.60 , max: 50.00) | Média: 23.08 | Variância: 83.24\n"
     ]
    }
   ],
   "source": [
    "#Gabaraito do conjunto teste\n",
    "\n",
    "print('Limites: (min: {:.2f} , max: {:.2f}) | Média: {:.2f} | Variância: {:.2f}'.format(np.min(test_targets,axis = 0), \n",
    "np.max(test_targets), np.mean(test_targets), np.var(test_targets)))"
   ]
  },
  {
   "cell_type": "markdown",
   "id": "dm1PVU0F-6ww",
   "metadata": {
    "id": "dm1PVU0F-6ww"
   },
   "source": [
    "Sim, as predições foram significativas. Observamos que os parâmetros mudaram. "
   ]
  },
  {
   "cell_type": "markdown",
   "id": "F7xGQPod6RPW",
   "metadata": {
    "id": "F7xGQPod6RPW"
   },
   "source": [
    "## Referências\n",
    "* Chollet, Francois. Deep learning with Python. Simon and Schuster, 2017."
   ]
  }
 ],
 "metadata": {
  "colab": {
   "collapsed_sections": [],
   "name": "Exp. 06 - Lab. Introdução ao Processamento Digital de Imagens e Visão Computacional sem Resp.ipynb",
   "provenance": []
  },
  "kernelspec": {
   "display_name": "Python 3",
   "language": "python",
   "name": "python3"
  },
  "language_info": {
   "codemirror_mode": {
    "name": "ipython",
    "version": 3
   },
   "file_extension": ".py",
   "mimetype": "text/x-python",
   "name": "python",
   "nbconvert_exporter": "python",
   "pygments_lexer": "ipython3",
   "version": "3.8.8"
  }
 },
 "nbformat": 4,
 "nbformat_minor": 5
}
