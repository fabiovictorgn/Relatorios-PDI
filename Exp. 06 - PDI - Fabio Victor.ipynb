{
 "cells": [
  {
   "cell_type": "markdown",
   "id": "s--xSKto6ROF",
   "metadata": {
    "id": "s--xSKto6ROF"
   },
   "source": [
    "<img src=\"https://www.anped.org.br/sites/default/files/images/ufcg-lateral.png\" width=\"780\" height=\"240\" align=\"center\"/>"
   ]
  },
  {
   "cell_type": "markdown",
   "id": "xhmLTfiy6ROd",
   "metadata": {
    "id": "xhmLTfiy6ROd"
   },
   "source": [
    "## Centro de Engenharia Elétrica e Informática\n",
    "## Departamento de Engenharia Elétrica\n",
    "## Disciplina: Int. ao Processamento de Imagem Digital e Visão Computacional\n",
    "## Professora: Luciana Veloso\n",
    "## Aluno(a): Fabio Victor Galdino Nascimento"
   ]
  },
  {
   "cell_type": "markdown",
   "id": "VLKOKOUd6ROg",
   "metadata": {
    "id": "VLKOKOUd6ROg"
   },
   "source": [
    "# Experimento 06: Redes Neurais Artificiais"
   ]
  },
  {
   "cell_type": "code",
   "execution_count": 16,
   "id": "y2Z-Olnu6ROj",
   "metadata": {
    "id": "y2Z-Olnu6ROj"
   },
   "outputs": [],
   "source": [
    "import os                                             # Operational System para manipulação de arquivos.\n",
    "import cv2                                            # OpenCV para manipulação de imagens.\n",
    "import numpy as np                                    # Numpy para manipulação de matrizes e arrays.\n",
    "import matplotlib.pyplot as plt                       # Pyplot para plotagem de gráficos e imagens.\n",
    "from sklearn.model_selection import train_test_split  # Função para particionamento dos dados\n",
    "\n",
    "from tensorflow.keras.models import Sequential        # Classe de modelos sequenciais para construir as redes neurais.\n",
    "from tensorflow.keras.layers import Dense, Input      # Camada de neurônios densamente conectados.\n",
    "from tensorflow.keras.optimizers import SGD           # Otimizador \"Descida do Gradiente com Momento\".\n",
    "from tensorflow.keras.datasets import boston_housing  # Dataset utilizado nesse experimento."
   ]
  },
  {
   "cell_type": "markdown",
   "id": "NoAvcRq16ROp",
   "metadata": {
    "id": "NoAvcRq16ROp"
   },
   "source": [
    "## 1. Banco de Dados\n",
    "\n",
    "* Vamos utilizar um banco de dados do catálogo de datasets do Keras, que é disponibilizado como uma função pronta;\n",
    "\n",
    "* Cada instância do banco de dados corresponde a um conjunto de 13 valores referentes a características de subúrbios de Boston na década de 1970, a exemplo de taxa de crimes, imposto sobre propriedade, etc;\n",
    "\n",
    "* Esses valores serão utilizados para calcular o valor mediano das residências no respectivo subúrbio em um problema de regressão, de modo que iremos mapear um vetor de entrada com 13 valores em um vetor de saída com 1 único elemento;\n",
    "\n",
    "* O banco de dados contém 506 valores divididos em 404 instâncias de treino e 102 de teste;\n",
    "\n",
    "* Uma descrição mais detalhada dos valores de entrada pode ser vista em http://lib.stat.cmu.edu/datasets/boston, onde os valores são descritos na ordem que aparecem;"
   ]
  },
  {
   "cell_type": "markdown",
   "id": "GNjeFza96ROq",
   "metadata": {
    "id": "GNjeFza96ROq"
   },
   "source": [
    "### 1.1 Organização do banco de dados\n",
    "\n",
    "* Comumente os dados utilizados no treinamento de modelos de inteligência artificial reservam a primeira dimensão para controlar a amostra e espalham o tipo de dado utilizado nas demais dimensões do tensor. \n",
    "\n",
    "\n",
    "* Nesse caso, os nossos dados são vetores de características unidimensionais (1D), de modo que são organizados em tensores bidimensionais (2D) com formato: **dados.shape = (amostras, características)**\n",
    "    * O i-ésimo exemplo pode ser acessado a partir de: **exemplo = dados[i]**\n",
    "    * A j-ésima característica dos exemplos pode ser acessada a partir de: **caracteristica = dados[:, j]**\n",
    "    * Porções do tensor podem ser acessadas utilizando fatiamento, por exemplo:\n",
    "        * primeiros_5_exemplos = dados[:5]\n",
    "        * caracteristicas_9a13 = dados[8:13]\n",
    "        \n",
    "\n",
    "* Lembrem-se que a contagem de índices em Python começa em 0 e só é inclusiva no primeiro elemento:\n",
    "    * **:5** produz os índices **0, 1, 2, 3, 4** \n",
    "    * **8:13** produz os índices **8, 9, 10, 11, 12** \n",
    "        "
   ]
  },
  {
   "cell_type": "markdown",
   "id": "a6QA8HGh6ROu",
   "metadata": {
    "id": "a6QA8HGh6ROu"
   },
   "source": [
    "* O banco de dados pode ser carregado utilizando:\n",
    "    * **(train_data, train_targets), (test_data, test_targets) = boston_housing.load_data()**\n",
    "    * train_data é um tensor com as entradas do conjunto de treino;\n",
    "    * test_data é um tensor com as entradas do conjunto de teste;\n",
    "    * train_targets é um tensor com os gabaritos do conjunto de treino;\n",
    "    * test_targets é um tensor com os gabaritos do conjunto de teste;"
   ]
  },
  {
   "cell_type": "markdown",
   "id": "LI7TQhoP6ROx",
   "metadata": {
    "id": "LI7TQhoP6ROx"
   },
   "source": [
    "**a. O código abaixo carrega o banco de dados, acesse alguns exemplos de treinamento e de teste e veja suas dimensões.**\n",
    "\n",
    "* Use índices entre **[0, 404)** para os dados de treino e entre **[0, 102)** para os de teste."
   ]
  },
  {
   "cell_type": "code",
   "execution_count": 17,
   "id": "IxajX1sr6RO1",
   "metadata": {
    "id": "IxajX1sr6RO1"
   },
   "outputs": [
    {
     "name": "stdout",
     "output_type": "stream",
     "text": [
      "Downloading data from https://storage.googleapis.com/tensorflow/tf-keras-datasets/boston_housing.npz\n",
      "57344/57026 [==============================] - 0s 1us/step\n",
      "65536/57026 [==================================] - 0s 1us/step\n"
     ]
    }
   ],
   "source": [
    "(train_data, train_targets), (test_data, test_targets) = boston_housing.load_data()"
   ]
  },
  {
   "cell_type": "code",
   "execution_count": 18,
   "id": "iSDNumLjWFse",
   "metadata": {
    "colab": {
     "base_uri": "https://localhost:8080/"
    },
    "id": "iSDNumLjWFse",
    "outputId": "411a73d6-dad0-4dc7-d436-c8001737926c"
   },
   "outputs": [
    {
     "data": {
      "text/plain": [
       "array([9.2520e-02, 3.0000e+01, 4.9300e+00, 0.0000e+00, 4.2800e-01,\n",
       "       6.6060e+00, 4.2200e+01, 6.1899e+00, 6.0000e+00, 3.0000e+02,\n",
       "       1.6600e+01, 3.8378e+02, 7.3700e+00])"
      ]
     },
     "execution_count": 18,
     "metadata": {},
     "output_type": "execute_result"
    }
   ],
   "source": [
    "train_data[202]"
   ]
  },
  {
   "cell_type": "code",
   "execution_count": 19,
   "id": "rsPU3G3QWeaR",
   "metadata": {
    "colab": {
     "base_uri": "https://localhost:8080/"
    },
    "id": "rsPU3G3QWeaR",
    "outputId": "542f3d42-1cad-4a71-9d91-176641659d73"
   },
   "outputs": [
    {
     "data": {
      "text/plain": [
       "array([1.4103e-01, 0.0000e+00, 1.3920e+01, 0.0000e+00, 4.3700e-01,\n",
       "       5.7900e+00, 5.8000e+01, 6.3200e+00, 4.0000e+00, 2.8900e+02,\n",
       "       1.6000e+01, 3.9690e+02, 1.5840e+01])"
      ]
     },
     "execution_count": 19,
     "metadata": {},
     "output_type": "execute_result"
    }
   ],
   "source": [
    "test_data[51]"
   ]
  },
  {
   "cell_type": "code",
   "execution_count": 20,
   "id": "MpcsLrWYW9z7",
   "metadata": {
    "colab": {
     "base_uri": "https://localhost:8080/"
    },
    "id": "MpcsLrWYW9z7",
    "outputId": "58efc1d9-f1e4-4ead-e086-6a8fc1d6ffd5"
   },
   "outputs": [
    {
     "data": {
      "text/plain": [
       "(404, 13)"
      ]
     },
     "execution_count": 20,
     "metadata": {},
     "output_type": "execute_result"
    }
   ],
   "source": [
    "train_data.shape"
   ]
  },
  {
   "cell_type": "code",
   "execution_count": 21,
   "id": "czZ8izNIXI4V",
   "metadata": {
    "colab": {
     "base_uri": "https://localhost:8080/"
    },
    "id": "czZ8izNIXI4V",
    "outputId": "31c4b708-5b7e-4d23-f963-3e830cb8694d"
   },
   "outputs": [
    {
     "data": {
      "text/plain": [
       "(102, 13)"
      ]
     },
     "execution_count": 21,
     "metadata": {},
     "output_type": "execute_result"
    }
   ],
   "source": [
    "test_data.shape"
   ]
  },
  {
   "cell_type": "markdown",
   "id": "ufGZe6eY6RO3",
   "metadata": {
    "id": "ufGZe6eY6RO3"
   },
   "source": [
    "**b. Verifique as dimensões e as faixas de valores de cada característica nos vetores de entrada dos conjuntos de treino e de teste. A faixa de valores das características são semelhantes? E os dados de treino e de teste?**\n",
    "\n",
    "* Encontre os valores mínimo/máximo além da média (np.mean) e da variância (np.var) de cada uma das 13 características.\n",
    "* Sugestão: leia sobre o parâmetro \"axis\" na documentação das funções np.min, np.max e np.mean."
   ]
  },
  {
   "cell_type": "code",
   "execution_count": 22,
   "id": "F2DAIkL66RO5",
   "metadata": {
    "colab": {
     "base_uri": "https://localhost:8080/"
    },
    "id": "F2DAIkL66RO5",
    "outputId": "4539c817-da7b-4640-e73a-c091a3bf9ba7"
   },
   "outputs": [
    {
     "name": "stdout",
     "output_type": "stream",
     "text": [
      "Coluna: 0 | Limites: (min: 0.01 , max: 88.98) | Média: 3.75 | Variância: 85.18\n",
      "Coluna: 1 | Limites: (min: 0.00 , max: 100.00) | Média: 11.48 | Variância: 563.51\n",
      "Coluna: 2 | Limites: (min: 0.46 , max: 27.74) | Média: 11.10 | Variância: 46.28\n",
      "Coluna: 3 | Limites: (min: 0.00 , max: 1.00) | Média: 0.06 | Variância: 0.06\n",
      "Coluna: 4 | Limites: (min: 0.39 , max: 0.87) | Média: 0.56 | Variância: 0.01\n",
      "Coluna: 5 | Limites: (min: 3.56 , max: 8.72) | Média: 6.27 | Variância: 0.50\n",
      "Coluna: 6 | Limites: (min: 2.90 , max: 100.00) | Média: 69.01 | Variância: 778.75\n",
      "Coluna: 7 | Limites: (min: 1.13 , max: 10.71) | Média: 3.74 | Variância: 4.11\n",
      "Coluna: 8 | Limites: (min: 1.00 , max: 24.00) | Média: 9.44 | Variância: 75.47\n",
      "Coluna: 9 | Limites: (min: 188.00 , max: 711.00) | Média: 405.90 | Variância: 27611.97\n",
      "Coluna: 10 | Limites: (min: 12.60 , max: 22.00) | Média: 18.48 | Variância: 4.83\n",
      "Coluna: 11 | Limites: (min: 0.32 , max: 396.90) | Média: 354.78 | Variância: 8834.99\n",
      "Coluna: 12 | Limites: (min: 1.73 , max: 37.97) | Média: 12.74 | Variância: 52.50\n"
     ]
    }
   ],
   "source": [
    "#Conjunto Treino\n",
    "linhas, colunas = train_data.shape\n",
    "\n",
    "for i in range(colunas):\n",
    "    print('Coluna: {} | Limites: (min: {:.2f} , max: {:.2f}) | Média: {:.2f} | Variância: {:.2f}'.format(i,np.min(train_data,axis = 0)[i], \n",
    "    np.max(train_data,axis = 0)[i], np.mean(train_data, axis = 0)[i], np.var(train_data,axis=0)[i]))"
   ]
  },
  {
   "cell_type": "code",
   "execution_count": 23,
   "id": "kxRsRk6nf_xi",
   "metadata": {
    "colab": {
     "base_uri": "https://localhost:8080/"
    },
    "id": "kxRsRk6nf_xi",
    "outputId": "92232d06-1e9b-4c62-f7df-4c011b379963"
   },
   "outputs": [
    {
     "name": "stdout",
     "output_type": "stream",
     "text": [
      "Coluna: 0 | Limites: (min: 0.01 , max: 25.05) | Média: 3.09 | Variância: 28.59\n",
      "Coluna: 1 | Limites: (min: 0.00 , max: 90.00) | Média: 10.90 | Variância: 460.83\n",
      "Coluna: 2 | Limites: (min: 1.22 , max: 27.74) | Média: 11.26 | Variância: 49.69\n",
      "Coluna: 3 | Limites: (min: 0.00 , max: 1.00) | Média: 0.10 | Variância: 0.09\n",
      "Coluna: 4 | Limites: (min: 0.39 , max: 0.87) | Média: 0.54 | Variância: 0.01\n",
      "Coluna: 5 | Limites: (min: 4.88 , max: 8.78) | Média: 6.35 | Variância: 0.45\n",
      "Coluna: 6 | Limites: (min: 6.00 , max: 100.00) | Média: 66.85 | Variância: 834.77\n",
      "Coluna: 7 | Limites: (min: 1.47 , max: 12.13) | Média: 4.01 | Variância: 5.61\n",
      "Coluna: 8 | Limites: (min: 1.00 , max: 24.00) | Média: 9.98 | Variância: 76.20\n",
      "Coluna: 9 | Limites: (min: 187.00 , max: 711.00) | Média: 417.50 | Variância: 31158.88\n",
      "Coluna: 10 | Limites: (min: 13.00 , max: 21.20) | Média: 18.37 | Variância: 4.07\n",
      "Coluna: 11 | Limites: (min: 24.65 , max: 396.90) | Média: 364.16 | Variância: 6201.47\n",
      "Coluna: 12 | Limites: (min: 1.92 , max: 31.99) | Média: 12.31 | Variância: 44.39\n"
     ]
    }
   ],
   "source": [
    "#Conjunto Teste\n",
    "\n",
    "for i in range(colunas):\n",
    "    print('Coluna: {} | Limites: (min: {:.2f} , max: {:.2f}) | Média: {:.2f} | Variância: {:.2f}'.format(i,np.min(test_data,axis = 0)[i], \n",
    "    np.max(test_data,axis = 0)[i], np.mean(test_data, axis = 0)[i], np.var(test_data,axis=0)[i]))"
   ]
  },
  {
   "cell_type": "markdown",
   "id": "RMNKQIy-xO8h",
   "metadata": {
    "id": "RMNKQIy-xO8h"
   },
   "source": [
    "**Comentário:**\n",
    "\n",
    "É possivel observar que alguns parametros são parecidos, porém ainda não são valores bons para possuir uma boa acurácia."
   ]
  },
  {
   "cell_type": "markdown",
   "id": "Wagspy6I6RO6",
   "metadata": {
    "id": "Wagspy6I6RO6"
   },
   "source": [
    "**c. Verifique as dimensões e as faixas de valores dos gabaritos dos conjuntos de treino e de teste. Os valores encontrados são semelhantes?**"
   ]
  },
  {
   "cell_type": "code",
   "execution_count": 24,
   "id": "Au0aW4oX6RO8",
   "metadata": {
    "colab": {
     "base_uri": "https://localhost:8080/"
    },
    "id": "Au0aW4oX6RO8",
    "outputId": "8886fc1d-ddc9-4d97-9d50-fa5e166b6e29"
   },
   "outputs": [
    {
     "data": {
      "text/plain": [
       "(404,)"
      ]
     },
     "execution_count": 24,
     "metadata": {},
     "output_type": "execute_result"
    }
   ],
   "source": [
    "train_targets.shape"
   ]
  },
  {
   "cell_type": "code",
   "execution_count": 25,
   "id": "uX4zTgDcpgj4",
   "metadata": {
    "colab": {
     "base_uri": "https://localhost:8080/"
    },
    "id": "uX4zTgDcpgj4",
    "outputId": "c2535ccf-5f75-43b8-99fc-586230ee559c"
   },
   "outputs": [
    {
     "data": {
      "text/plain": [
       "(102,)"
      ]
     },
     "execution_count": 25,
     "metadata": {},
     "output_type": "execute_result"
    }
   ],
   "source": [
    "test_targets.shape"
   ]
  },
  {
   "cell_type": "code",
   "execution_count": 26,
   "id": "3eOzJfZQpmCO",
   "metadata": {
    "colab": {
     "base_uri": "https://localhost:8080/"
    },
    "id": "3eOzJfZQpmCO",
    "outputId": "c25b6dc9-c83e-42c6-e27e-b040706db4f2"
   },
   "outputs": [
    {
     "name": "stdout",
     "output_type": "stream",
     "text": [
      "Limites: (min: 5.00 , max: 50.00) | Média: 22.40 | Variância: 84.62\n"
     ]
    }
   ],
   "source": [
    "#Gabaraito do conjunto treino\n",
    "\n",
    "print('Limites: (min: {:.2f} , max: {:.2f}) | Média: {:.2f} | Variância: {:.2f}'.format(np.min(train_targets,axis = 0), \n",
    "np.max(train_targets), np.mean(train_targets), np.var(train_targets)))"
   ]
  },
  {
   "cell_type": "code",
   "execution_count": 27,
   "id": "XsEVx7S0rBnj",
   "metadata": {
    "colab": {
     "base_uri": "https://localhost:8080/"
    },
    "id": "XsEVx7S0rBnj",
    "outputId": "ca7d518c-7648-4231-8a96-68df12947887"
   },
   "outputs": [
    {
     "name": "stdout",
     "output_type": "stream",
     "text": [
      "Limites: (min: 5.60 , max: 50.00) | Média: 23.08 | Variância: 83.24\n"
     ]
    }
   ],
   "source": [
    "#Gabaraito do conjunto teste\n",
    "\n",
    "print('Limites: (min: {:.2f} , max: {:.2f}) | Média: {:.2f} | Variância: {:.2f}'.format(np.min(test_targets,axis = 0), \n",
    "np.max(test_targets), np.mean(test_targets), np.var(test_targets)))"
   ]
  },
  {
   "cell_type": "markdown",
   "id": "QpRx8G3Zs0H2",
   "metadata": {
    "id": "QpRx8G3Zs0H2"
   },
   "source": [
    "**Comentário:**\n",
    "\n",
    "Podemos observar que os valores da média e variância são próximos, mas não são iguais. Enquanto os limites são os mesmos. "
   ]
  },
  {
   "cell_type": "markdown",
   "id": "ZiYm2_g_6RO-",
   "metadata": {
    "id": "ZiYm2_g_6RO-"
   },
   "source": [
    "### 1.2 Pre-processamento dos dados\n",
    "\n",
    "* Dados cujas características assumem diferentes faixas de valores muitas vezes são problemáticos para o aprendizado dos modelos e podem reduzir a velocidade de convergência ou até mesmo limitar as capacidades do modelo final.\n",
    "\n",
    "* Nesse sentido, uma prática comum é a normalização dos dados antes do treinamento, que geralmente é feito por característica em forma da subtração da média e divisão pelo desvio padrão, o que faz com que os dados resultantes tenham média 0 e variância 1.\n",
    "\n",
    "* Um ponto muito importante é que a normalização deve ser feita partir dos mesmos valores em todos os conjuntos, ou seja, os dados são normalizados segundo informações do conjunto de treino.\n",
    "\n",
    "* Na prática não temos como calcular a média e variância real, mas se os dados de treino são significativos os seus valores são suficientes."
   ]
  },
  {
   "cell_type": "code",
   "execution_count": 28,
   "id": "fe6yucu-6RO_",
   "metadata": {
    "id": "fe6yucu-6RO_"
   },
   "outputs": [],
   "source": [
    "# Calcula a média do conjunto de treino\n",
    "mean = train_data.mean(axis=0)\n",
    "\n",
    "# Calcula o desvio padrão do conjunto de treino\n",
    "std = train_data.std(axis=0)\n",
    "\n",
    "# Normaliza os dados de treino\n",
    "train_data -= mean\n",
    "train_data /= std\n",
    "\n",
    "# Normaliza os dados de teste\n",
    "test_data -= mean\n",
    "test_data /= std"
   ]
  },
  {
   "cell_type": "markdown",
   "id": "itx5PkRG6RPA",
   "metadata": {
    "id": "itx5PkRG6RPA"
   },
   "source": [
    "**d. Repita o item b para os dados normalizados. O que se observa quantos aos valores de média e variância para os dados de treino e teste? Comente a sua interpretação sobre as diferenças observadas.**"
   ]
  },
  {
   "cell_type": "code",
   "execution_count": 29,
   "id": "3k3459Rj6RPB",
   "metadata": {
    "colab": {
     "base_uri": "https://localhost:8080/"
    },
    "id": "3k3459Rj6RPB",
    "outputId": "fc87eb6b-b3d4-4dca-b0f3-305001bfd59a"
   },
   "outputs": [
    {
     "name": "stdout",
     "output_type": "stream",
     "text": [
      "Coluna: 0 | Limites: (min: -0.41 , max: 9.23) | Média: -0.00 | Variância: 1.00\n",
      "Coluna: 1 | Limites: (min: -0.48 , max: 3.73) | Média: 0.00 | Variância: 1.00\n",
      "Coluna: 2 | Limites: (min: -1.56 , max: 2.45) | Média: 0.00 | Variância: 1.00\n",
      "Coluna: 3 | Limites: (min: -0.26 , max: 3.89) | Média: -0.00 | Variância: 1.00\n",
      "Coluna: 4 | Limites: (min: -1.47 , max: 2.68) | Média: -0.00 | Variância: 1.00\n",
      "Coluna: 5 | Limites: (min: -3.82 , max: 3.47) | Média: 0.00 | Variância: 1.00\n",
      "Coluna: 6 | Limites: (min: -2.37 , max: 1.11) | Média: 0.00 | Variância: 1.00\n",
      "Coluna: 7 | Limites: (min: -1.29 , max: 3.44) | Média: 0.00 | Variância: 1.00\n",
      "Coluna: 8 | Limites: (min: -0.97 , max: 1.68) | Média: 0.00 | Variância: 1.00\n",
      "Coluna: 9 | Limites: (min: -1.31 , max: 1.84) | Média: -0.00 | Variância: 1.00\n",
      "Coluna: 10 | Limites: (min: -2.67 , max: 1.60) | Média: 0.00 | Variância: 1.00\n",
      "Coluna: 11 | Limites: (min: -3.77 , max: 0.45) | Média: 0.00 | Variância: 1.00\n",
      "Coluna: 12 | Limites: (min: -1.52 , max: 3.48) | Média: 0.00 | Variância: 1.00\n"
     ]
    }
   ],
   "source": [
    "#Conjunto Treino\n",
    "linhas, colunas = train_data.shape\n",
    "\n",
    "for i in range(colunas):\n",
    "    print('Coluna: {} | Limites: (min: {:.2f} , max: {:.2f}) | Média: {:.2f} | Variância: {:.2f}'.format(i,np.min(train_data,axis = 0)[i], \n",
    "    np.max(train_data,axis = 0)[i], np.mean(train_data, axis = 0)[i], np.var(train_data,axis=0)[i]))"
   ]
  },
  {
   "cell_type": "code",
   "execution_count": 30,
   "id": "mKxdkf1B2VXF",
   "metadata": {
    "colab": {
     "base_uri": "https://localhost:8080/"
    },
    "id": "mKxdkf1B2VXF",
    "outputId": "b3d925c3-016d-41be-debc-22131ea8733d"
   },
   "outputs": [
    {
     "name": "stdout",
     "output_type": "stream",
     "text": [
      "Coluna: 0 | Limites: (min: -0.40 , max: 2.31) | Média: -0.07 | Variância: 0.34\n",
      "Coluna: 1 | Limites: (min: -0.48 , max: 3.31) | Média: -0.02 | Variância: 0.82\n",
      "Coluna: 2 | Limites: (min: -1.45 , max: 2.45) | Média: 0.02 | Variância: 1.07\n",
      "Coluna: 3 | Limites: (min: -0.26 , max: 3.89) | Média: 0.15 | Variância: 1.52\n",
      "Coluna: 4 | Limites: (min: -1.41 , max: 2.68) | Média: -0.11 | Variância: 0.87\n",
      "Coluna: 5 | Limites: (min: -1.96 , max: 3.54) | Média: 0.12 | Variância: 0.89\n",
      "Coluna: 6 | Limites: (min: -2.26 , max: 1.11) | Média: -0.08 | Variância: 1.07\n",
      "Coluna: 7 | Limites: (min: -1.12 , max: 4.14) | Média: 0.13 | Variância: 1.36\n",
      "Coluna: 8 | Limites: (min: -0.97 , max: 1.68) | Média: 0.06 | Variância: 1.01\n",
      "Coluna: 9 | Limites: (min: -1.32 , max: 1.84) | Média: 0.07 | Variância: 1.13\n",
      "Coluna: 10 | Limites: (min: -2.49 , max: 1.24) | Média: -0.05 | Variância: 0.84\n",
      "Coluna: 11 | Limites: (min: -3.51 , max: 0.45) | Média: 0.10 | Variância: 0.70\n",
      "Coluna: 12 | Limites: (min: -1.49 , max: 2.66) | Média: -0.06 | Variância: 0.85\n"
     ]
    }
   ],
   "source": [
    "#Conjunto Teste\n",
    "\n",
    "for i in range(colunas):\n",
    "    print('Coluna: {} | Limites: (min: {:.2f} , max: {:.2f}) | Média: {:.2f} | Variância: {:.2f}'.format(i,np.min(test_data,axis = 0)[i], \n",
    "    np.max(test_data,axis = 0)[i], np.mean(test_data, axis = 0)[i], np.var(test_data,axis=0)[i]))"
   ]
  },
  {
   "cell_type": "markdown",
   "id": "F45IMh350NPm",
   "metadata": {
    "id": "F45IMh350NPm"
   },
   "source": [
    "**Comentário:**\n",
    "\n",
    "Observamos a mudança nos valores da média e variância. Dessa forma, será bem mais fácil trabalhar com os dados, já que a faixa de valores está mais controlada. "
   ]
  },
  {
   "cell_type": "markdown",
   "id": "p6z_P-x86RPC",
   "metadata": {
    "id": "p6z_P-x86RPC"
   },
   "source": [
    "Agora vamos criar uma partição de validação a partir do conjunto de treino para realizar uma validação cruzada. Vamos utilizar a função **train_test_split**, que separa dados e os seus respectivos gabaritos segundo uma fração especificada."
   ]
  },
  {
   "cell_type": "code",
   "execution_count": 31,
   "id": "kf97lDwI6RPC",
   "metadata": {
    "colab": {
     "base_uri": "https://localhost:8080/"
    },
    "id": "kf97lDwI6RPC",
    "outputId": "80cfdb1d-8e28-404d-d6af-8f7419d2adbc"
   },
   "outputs": [
    {
     "name": "stdout",
     "output_type": "stream",
     "text": [
      "treino: (302, 13) (302,)\n",
      "validação: (102, 13) (102,)\n"
     ]
    }
   ],
   "source": [
    "# Fração escolhida para separar o mesmo número de instâncias do conjunto de testes\n",
    "data_frac = test_data.shape[0] / train_data.shape[0]\n",
    "\n",
    "# Criação do conjunto de validação\n",
    "train_data, val_data, train_targets, val_targets = train_test_split(train_data,             # Dados de treino\n",
    "                                                                    train_targets,          # Gabaritos de treino\n",
    "                                                                    test_size = data_frac,  # Proporção de dados p/ validação\n",
    "                                                                    random_state=42)        # Semente para garantir consistencia nos resultados\n",
    "\n",
    "print(\"treino:\", train_data.shape, train_targets.shape)\n",
    "print(\"validação:\", val_data.shape, val_targets.shape)"
   ]
  },
  {
   "cell_type": "markdown",
   "id": "ko_v0QIn6RPE",
   "metadata": {
    "id": "ko_v0QIn6RPE"
   },
   "source": [
    "### 1.2 Construindo o modelo\n",
    "\n",
    "Para construir o modelo usaremos a classe **Sequential**, que possibilita a construção de modelos sequenciais de forma bastante simples.\n",
    "* A construção do modelo é feita a partir do seu instanciamento como objeto da classe seguido de chamadas à função **add()** para adicionar camadas.\n",
    "* Como estamos construindo apenas Redes Neurais Artificiais por enquanto, vamos utilizar apenas as camadas **Dense** e **Input**.\n",
    "    * A camada Input cria a entrada da rede com **Input( shape = None )**\n",
    "        * shape corresponde ao formato do tensor de entrada, no nosso caso será o número de características do nosso banco de dados (13);\n",
    "    * A camada Dense pode ser chamada com **Dense( n_unidades, activation = 'linear' )**\n",
    "        * n_unidades corresponde ao número de neurônios da camada;\n",
    "        * activation corresponde à função de ativação utilizada na camada;\n",
    "* Algumas funções de ativação disponíveis são:\n",
    "    * \"linear\"\n",
    "    * \"relu\"\n",
    "    * \"sigmoid\"\n",
    "    * \"softmax\"\n",
    "    * \"tanh\"\n",
    "\n",
    "\n",
    "* Mais informações sobre a camada dense podem ser vistas em **https://keras.io/api/layers/core_layers/dense/**\n",
    "* Mais informações sobre as ativações disponíveis podem ser vistas em **https://keras.io/api/layers/activations/**"
   ]
  },
  {
   "cell_type": "markdown",
   "id": "P-l1RrBt6RPF",
   "metadata": {
    "id": "P-l1RrBt6RPF"
   },
   "source": [
    "**e. A função abaixo constroi um modelo de rede neural e utiliza a função summary() para apresentar um resumo das informações da rede neural produzida. Comente o que faz cada linha do código.**\n",
    "\n",
    "* Modifique parâmetros como o número de unidades de cada camada e/ou o formato do tensor de entrada e/ou o número de saídas. \n",
    "* Explique como o número de parâmetros de cada camada é calculado."
   ]
  },
  {
   "cell_type": "code",
   "execution_count": 32,
   "id": "1BbGMBYq6RPG",
   "metadata": {
    "colab": {
     "base_uri": "https://localhost:8080/"
    },
    "id": "1BbGMBYq6RPG",
    "outputId": "39b36502-c7b9-4ac1-9c79-8242f105e92a"
   },
   "outputs": [
    {
     "name": "stdout",
     "output_type": "stream",
     "text": [
      "Model: \"sequential\"\n",
      "_________________________________________________________________\n",
      "Layer (type)                 Output Shape              Param #   \n",
      "=================================================================\n",
      "dense (Dense)                (None, 64)                896       \n",
      "_________________________________________________________________\n",
      "dense_1 (Dense)              (None, 128)               8320      \n",
      "_________________________________________________________________\n",
      "dense_2 (Dense)              (None, 1)                 129       \n",
      "=================================================================\n",
      "Total params: 9,345\n",
      "Trainable params: 9,345\n",
      "Non-trainable params: 0\n",
      "_________________________________________________________________\n"
     ]
    }
   ],
   "source": [
    "def build_model( n_inputs, n_outputs ): \n",
    "    rede = Sequential()   # construção do modelo sequencial \n",
    "    rede.add( Dense( 64, activation = \"relu\", input_shape = (n_inputs, ) ) ) #Adicionando neurônios na rede e a ativação relu                                                                           \n",
    "    rede.add( Dense( 128, activation = \"relu\") ) #Adicionando neurônios na rede e a ativação relu   \n",
    "    rede.add( Dense( n_outputs ) )  #Adicionando mais uma camada, com um numero de neuronios igual ao numero de saida\n",
    "    return rede \n",
    "\n",
    "model = build_model( 13, 1 ) #montando o modelo\n",
    "model.summary() "
   ]
  },
  {
   "cell_type": "markdown",
   "id": "g-vy4hxT6RPH",
   "metadata": {
    "id": "g-vy4hxT6RPH"
   },
   "source": [
    "**f. Nesse caso utilizamos uma saída com ativação linear. Qual seria a desvantagem de utilizar esse tipo de ativação nas demais camadas?**"
   ]
  },
  {
   "cell_type": "markdown",
   "id": "WSAUYKfoEDHM",
   "metadata": {
    "id": "WSAUYKfoEDHM"
   },
   "source": [
    "**Resposta:**\n",
    "\n",
    "A desvantagem é que o conjunto seria a combinação linear da camada anterior, o que resultaria em uma saída limitada em uma fronteira de decisão linear.   "
   ]
  },
  {
   "cell_type": "markdown",
   "id": "HW8-e12L6RPJ",
   "metadata": {
    "id": "HW8-e12L6RPJ"
   },
   "source": [
    "Após a construção do modelo ele deve ser compilado antes que os parâmetros sejam treinados. Isso é feito utilizando a função **compile**:\n",
    "\n",
    "* **model.compile( optimizer = opt, loss = fperdas, metrics = [] )** \n",
    "    * O optimizer é o algoritmo otimizador utilizado no lugar da descida do gradiente, o Keras oferece diversas opções;\n",
    "        * Para treinar a partir da descida do gradiente utilizaremos o SGD (descida do gradiente com momento), mas setaremos esse parâmetro para 0.\n",
    "        * **opt = SGD( learning_rate = taxa_de_aprendizagem, momentum = 0 )**\n",
    "    * A função de perdas pode ser definida a partir do parâmetro loss, como este é um problema de regressão utilizaremos o erro médio quadrático: \n",
    "        * **loss = \"mse\"**\n",
    "    * Podemos passar uma lista de métricas a serem computadas durante o treinamento, nesse caso utilizaremos o erro médio absoluto:\n",
    "        * **metrics = [\"mae\"]**\n",
    "        * Note que estamos passando uma lista com uma única métrica, mas outras poderiam ser adicionadas à lista.\n",
    "         \n",
    "         \n",
    "\n",
    "* Algoritmos otimizadores populares são o Adam (**https://keras.io/api/optimizers/adam/**) e o RMSprop(**https://keras.io/api/optimizers/rmsprop/**)\n",
    "* Mais informações sobre os otimizadores disponíveis podem ser vistas em **https://keras.io/api/optimizers/**\n",
    "* Mais informações sobre as funções de perdas disponíveis podem ser vistas em **https://keras.io/api/losses/**\n",
    "* Mais informações sobre as métricas disponíveis podem ser vistas em **https://keras.io/api/metrics/**\n",
    "\n"
   ]
  },
  {
   "cell_type": "code",
   "execution_count": 46,
   "id": "pSsbfYEH6RPK",
   "metadata": {
    "colab": {
     "base_uri": "https://localhost:8080/"
    },
    "id": "pSsbfYEH6RPK",
    "outputId": "221686a5-7ed7-4e4c-ba36-d82e3147db2e"
   },
   "outputs": [
    {
     "name": "stdout",
     "output_type": "stream",
     "text": [
      "Model: \"sequential_3\"\n",
      "_________________________________________________________________\n",
      "Layer (type)                 Output Shape              Param #   \n",
      "=================================================================\n",
      "dense_9 (Dense)              (None, 64)                896       \n",
      "_________________________________________________________________\n",
      "dense_10 (Dense)             (None, 128)               8320      \n",
      "_________________________________________________________________\n",
      "dense_11 (Dense)             (None, 1)                 129       \n",
      "=================================================================\n",
      "Total params: 9,345\n",
      "Trainable params: 9,345\n",
      "Non-trainable params: 0\n",
      "_________________________________________________________________\n"
     ]
    }
   ],
   "source": [
    "model = build_model( 13, 1 )\n",
    "model.compile( optimizer = SGD(learning_rate=0.001, momentum=0.0), loss = \"mse\", metrics=[\"mae\"] )\n",
    "model.summary()"
   ]
  },
  {
   "cell_type": "markdown",
   "id": "eyZ7VTT96RPM",
   "metadata": {
    "id": "eyZ7VTT96RPM"
   },
   "source": [
    "### 1.3 Treinando o modelo\n",
    "\n",
    "O treinamento é realizado a partir da função **fit**, que recebe dados de treino e de validação além de hiperparâmetros como o número de épocas e o tamanho dos lotes de dados (batchsize).\n",
    "\n",
    "* **hist = model.fit( x = None, y = None, epochs = 1, batchsize = None, validation_data = None, verbose = \"auto\")**\n",
    "    * x corresponde aos dados de treino;\n",
    "    * y corresponde aos gabaritos de treino;\n",
    "    * epochs corresponde ao número de épocas de treinamento;\n",
    "    * batchsize corresponde ao tamanho dos lotes entregues à rede de cada vez;\n",
    "    * validation_data corresponde a uma tupla ( val_data, val_targets ) com os dados de validação;\n",
    "    * verbose indica como a função deve reportar os resultados:\n",
    "        * 0: modo silencioso, nenhum retorno em formato de texto;\n",
    "        * 1: retorno a cada época e barra de progresso;\n",
    "        * 2: retorno a cada época sem barra de progresso;\n",
    "    * hist é um dicionário de retorno com os valores de loss e das métricas computadas para treino e validação;"
   ]
  },
  {
   "cell_type": "code",
   "execution_count": 47,
   "id": "rGETOId06RPN",
   "metadata": {
    "colab": {
     "base_uri": "https://localhost:8080/"
    },
    "id": "rGETOId06RPN",
    "outputId": "6aa2cafc-01a0-4641-b7f8-71d491d57d1d",
    "scrolled": true
   },
   "outputs": [
    {
     "name": "stdout",
     "output_type": "stream",
     "text": [
      "Epoch 1/200\n",
      "302/302 [==============================] - 1s 1ms/step - loss: 80.4023 - mae: 6.1556 - val_loss: 23.7940 - val_mae: 3.8771\n",
      "Epoch 2/200\n",
      "302/302 [==============================] - 0s 1ms/step - loss: 35.5780 - mae: 4.1940 - val_loss: 23.0995 - val_mae: 3.6545\n",
      "Epoch 3/200\n",
      "302/302 [==============================] - 0s 1ms/step - loss: 40.3053 - mae: 4.1773 - val_loss: 16.0915 - val_mae: 3.0507\n",
      "Epoch 4/200\n",
      "302/302 [==============================] - 0s 1ms/step - loss: 25.6578 - mae: 3.6979 - val_loss: 97.6943 - val_mae: 7.9079\n",
      "Epoch 5/200\n",
      "302/302 [==============================] - 0s 1ms/step - loss: 24.2575 - mae: 3.4159 - val_loss: 45.6040 - val_mae: 5.5978\n",
      "Epoch 6/200\n",
      "302/302 [==============================] - 0s 1ms/step - loss: 22.4793 - mae: 3.3395 - val_loss: 37.8513 - val_mae: 3.9920\n",
      "Epoch 7/200\n",
      "302/302 [==============================] - 0s 1ms/step - loss: 35.0555 - mae: 3.7972 - val_loss: 23.6250 - val_mae: 3.6452\n",
      "Epoch 8/200\n",
      "302/302 [==============================] - 0s 1ms/step - loss: 23.0414 - mae: 3.3070 - val_loss: 18.7493 - val_mae: 3.5111\n",
      "Epoch 9/200\n",
      "302/302 [==============================] - 0s 1ms/step - loss: 14.2027 - mae: 2.7504 - val_loss: 14.6851 - val_mae: 2.8388\n",
      "Epoch 10/200\n",
      "302/302 [==============================] - 0s 1ms/step - loss: 15.8254 - mae: 2.8741 - val_loss: 10.3597 - val_mae: 2.2796\n",
      "Epoch 11/200\n",
      "302/302 [==============================] - 0s 1ms/step - loss: 15.5200 - mae: 2.8042 - val_loss: 14.2425 - val_mae: 2.8556\n",
      "Epoch 12/200\n",
      "302/302 [==============================] - 0s 1ms/step - loss: 12.8726 - mae: 2.4867 - val_loss: 12.9675 - val_mae: 2.4927\n",
      "Epoch 13/200\n",
      "302/302 [==============================] - 0s 1ms/step - loss: 9.5646 - mae: 2.2597 - val_loss: 12.6764 - val_mae: 2.5584\n",
      "Epoch 14/200\n",
      "302/302 [==============================] - 0s 1ms/step - loss: 13.0212 - mae: 2.6928 - val_loss: 9.3450 - val_mae: 2.2286\n",
      "Epoch 15/200\n",
      "302/302 [==============================] - 0s 1ms/step - loss: 11.6411 - mae: 2.4928 - val_loss: 14.7136 - val_mae: 3.1303\n",
      "Epoch 16/200\n",
      "302/302 [==============================] - 0s 1ms/step - loss: 13.4951 - mae: 2.5148 - val_loss: 22.5436 - val_mae: 3.1197\n",
      "Epoch 17/200\n",
      "302/302 [==============================] - 0s 2ms/step - loss: 14.8514 - mae: 2.6996 - val_loss: 14.4651 - val_mae: 2.4341\n",
      "Epoch 18/200\n",
      "302/302 [==============================] - 1s 2ms/step - loss: 13.0557 - mae: 2.5331 - val_loss: 11.2812 - val_mae: 2.4837\n",
      "Epoch 19/200\n",
      "302/302 [==============================] - 1s 2ms/step - loss: 19.8652 - mae: 2.8867 - val_loss: 11.3254 - val_mae: 2.3394\n",
      "Epoch 20/200\n",
      "302/302 [==============================] - 0s 2ms/step - loss: 12.6021 - mae: 2.3557 - val_loss: 11.8074 - val_mae: 2.2310\n",
      "Epoch 21/200\n",
      "302/302 [==============================] - 0s 2ms/step - loss: 14.1467 - mae: 2.5829 - val_loss: 12.2367 - val_mae: 2.3984\n",
      "Epoch 22/200\n",
      "302/302 [==============================] - 0s 1ms/step - loss: 10.0132 - mae: 2.3098 - val_loss: 12.5006 - val_mae: 2.5839\n",
      "Epoch 23/200\n",
      "302/302 [==============================] - 0s 1ms/step - loss: 10.3909 - mae: 2.2490 - val_loss: 10.6631 - val_mae: 2.0758\n",
      "Epoch 24/200\n",
      "302/302 [==============================] - 0s 1ms/step - loss: 12.6447 - mae: 2.4030 - val_loss: 21.4620 - val_mae: 3.0293\n",
      "Epoch 25/200\n",
      "302/302 [==============================] - 0s 2ms/step - loss: 11.9057 - mae: 2.4434 - val_loss: 29.8391 - val_mae: 2.9368\n",
      "Epoch 26/200\n",
      "302/302 [==============================] - 0s 2ms/step - loss: 14.4547 - mae: 2.5512 - val_loss: 29.5563 - val_mae: 3.5862\n",
      "Epoch 27/200\n",
      "302/302 [==============================] - 0s 1ms/step - loss: 11.3322 - mae: 2.3400 - val_loss: 16.4518 - val_mae: 3.1427\n",
      "Epoch 28/200\n",
      "302/302 [==============================] - 0s 999us/step - loss: 12.3249 - mae: 2.2954 - val_loss: 13.9295 - val_mae: 2.4831\n",
      "Epoch 29/200\n",
      "302/302 [==============================] - 0s 1ms/step - loss: 8.6077 - mae: 2.0810 - val_loss: 12.1358 - val_mae: 2.4717\n",
      "Epoch 30/200\n",
      "302/302 [==============================] - 1s 2ms/step - loss: 9.2055 - mae: 2.1848 - val_loss: 22.9863 - val_mae: 3.4987\n",
      "Epoch 31/200\n",
      "302/302 [==============================] - 0s 1ms/step - loss: 8.2624 - mae: 2.1549 - val_loss: 10.9628 - val_mae: 2.5285\n",
      "Epoch 32/200\n",
      "302/302 [==============================] - 0s 1ms/step - loss: 9.2334 - mae: 2.1453 - val_loss: 9.5587 - val_mae: 2.2676\n",
      "Epoch 33/200\n",
      "302/302 [==============================] - 0s 1ms/step - loss: 11.2063 - mae: 2.2153 - val_loss: 14.3550 - val_mae: 2.6138\n",
      "Epoch 34/200\n",
      "302/302 [==============================] - 0s 1ms/step - loss: 7.4961 - mae: 2.0028 - val_loss: 14.4061 - val_mae: 2.5655\n",
      "Epoch 35/200\n",
      "302/302 [==============================] - 0s 1ms/step - loss: 8.9132 - mae: 2.1924 - val_loss: 13.2072 - val_mae: 2.8254\n",
      "Epoch 36/200\n",
      "302/302 [==============================] - 1s 2ms/step - loss: 11.5257 - mae: 2.1524 - val_loss: 11.9388 - val_mae: 2.2801\n",
      "Epoch 37/200\n",
      "302/302 [==============================] - 1s 2ms/step - loss: 8.3991 - mae: 2.0266 - val_loss: 9.6725 - val_mae: 2.2132\n",
      "Epoch 38/200\n",
      "302/302 [==============================] - 1s 2ms/step - loss: 11.5147 - mae: 2.3449 - val_loss: 10.8736 - val_mae: 2.0510\n",
      "Epoch 39/200\n",
      "302/302 [==============================] - 1s 2ms/step - loss: 9.4831 - mae: 2.0713 - val_loss: 13.1088 - val_mae: 2.4223\n",
      "Epoch 40/200\n",
      "302/302 [==============================] - 0s 2ms/step - loss: 7.8947 - mae: 1.9490 - val_loss: 15.6733 - val_mae: 2.6962\n",
      "Epoch 41/200\n",
      "302/302 [==============================] - 0s 2ms/step - loss: 9.7878 - mae: 2.1043 - val_loss: 10.4927 - val_mae: 2.3022\n",
      "Epoch 42/200\n",
      "302/302 [==============================] - 0s 2ms/step - loss: 8.1442 - mae: 2.0232 - val_loss: 14.8341 - val_mae: 2.6254\n",
      "Epoch 43/200\n",
      "302/302 [==============================] - 0s 1ms/step - loss: 9.5258 - mae: 2.1762 - val_loss: 10.8207 - val_mae: 2.1434\n",
      "Epoch 44/200\n",
      "302/302 [==============================] - 0s 1ms/step - loss: 8.6883 - mae: 2.0519 - val_loss: 13.2063 - val_mae: 2.3892\n",
      "Epoch 45/200\n",
      "302/302 [==============================] - 0s 1ms/step - loss: 7.0480 - mae: 1.9416 - val_loss: 13.1847 - val_mae: 2.3314\n",
      "Epoch 46/200\n",
      "302/302 [==============================] - 0s 2ms/step - loss: 6.4383 - mae: 1.8289 - val_loss: 17.1365 - val_mae: 2.6509\n",
      "Epoch 47/200\n",
      "302/302 [==============================] - 0s 1ms/step - loss: 7.5738 - mae: 1.9935 - val_loss: 15.0677 - val_mae: 2.3970\n",
      "Epoch 48/200\n",
      "302/302 [==============================] - 0s 1ms/step - loss: 11.0932 - mae: 2.1763 - val_loss: 12.0229 - val_mae: 2.6113\n",
      "Epoch 49/200\n",
      "302/302 [==============================] - 0s 1ms/step - loss: 6.7854 - mae: 1.9289 - val_loss: 8.7220 - val_mae: 2.0928\n",
      "Epoch 50/200\n",
      "302/302 [==============================] - 0s 1ms/step - loss: 8.7788 - mae: 2.0585 - val_loss: 10.5047 - val_mae: 2.1963\n",
      "Epoch 51/200\n",
      "302/302 [==============================] - 0s 1ms/step - loss: 7.1147 - mae: 1.8509 - val_loss: 17.0637 - val_mae: 2.5971\n",
      "Epoch 52/200\n",
      "302/302 [==============================] - 0s 1ms/step - loss: 5.1997 - mae: 1.7236 - val_loss: 10.6908 - val_mae: 2.4758\n",
      "Epoch 53/200\n",
      "302/302 [==============================] - 0s 1ms/step - loss: 6.3464 - mae: 1.8100 - val_loss: 8.8210 - val_mae: 1.9216\n",
      "Epoch 54/200\n",
      "302/302 [==============================] - 0s 1ms/step - loss: 6.4292 - mae: 1.7918 - val_loss: 15.1479 - val_mae: 2.5428\n",
      "Epoch 55/200\n",
      "302/302 [==============================] - 0s 1ms/step - loss: 5.8168 - mae: 1.7896 - val_loss: 13.1889 - val_mae: 2.4908\n",
      "Epoch 56/200\n",
      "302/302 [==============================] - 0s 1ms/step - loss: 8.3428 - mae: 2.0462 - val_loss: 17.7051 - val_mae: 2.7507\n",
      "Epoch 57/200\n",
      "302/302 [==============================] - 0s 1ms/step - loss: 8.7888 - mae: 1.9961 - val_loss: 13.2401 - val_mae: 2.4068\n",
      "Epoch 58/200\n",
      "302/302 [==============================] - 0s 1ms/step - loss: 8.6894 - mae: 1.8361 - val_loss: 18.0740 - val_mae: 2.9706\n",
      "Epoch 59/200\n",
      "302/302 [==============================] - 0s 1ms/step - loss: 6.6525 - mae: 1.8708 - val_loss: 9.4232 - val_mae: 2.1308\n",
      "Epoch 60/200\n",
      "302/302 [==============================] - 0s 1ms/step - loss: 7.2225 - mae: 1.9239 - val_loss: 15.7850 - val_mae: 2.5436\n",
      "Epoch 61/200\n"
     ]
    },
    {
     "name": "stdout",
     "output_type": "stream",
     "text": [
      "302/302 [==============================] - 0s 1ms/step - loss: 7.8677 - mae: 1.9287 - val_loss: 12.2331 - val_mae: 2.3769\n",
      "Epoch 62/200\n",
      "302/302 [==============================] - 0s 1ms/step - loss: 6.1181 - mae: 1.7891 - val_loss: 9.7507 - val_mae: 2.2605\n",
      "Epoch 63/200\n",
      "302/302 [==============================] - 0s 1ms/step - loss: 5.5621 - mae: 1.6991 - val_loss: 14.7633 - val_mae: 2.5497\n",
      "Epoch 64/200\n",
      "302/302 [==============================] - 0s 986us/step - loss: 5.3284 - mae: 1.6914 - val_loss: 12.0250 - val_mae: 2.3557\n",
      "Epoch 65/200\n",
      "302/302 [==============================] - 0s 996us/step - loss: 5.4232 - mae: 1.5906 - val_loss: 13.0680 - val_mae: 2.3636\n",
      "Epoch 66/200\n",
      "302/302 [==============================] - 0s 1ms/step - loss: 4.3458 - mae: 1.5860 - val_loss: 12.6654 - val_mae: 2.4616\n",
      "Epoch 67/200\n",
      "302/302 [==============================] - 0s 983us/step - loss: 4.7734 - mae: 1.6362 - val_loss: 9.2965 - val_mae: 2.1695\n",
      "Epoch 68/200\n",
      "302/302 [==============================] - 0s 989us/step - loss: 6.1150 - mae: 1.6967 - val_loss: 12.3062 - val_mae: 2.4642\n",
      "Epoch 69/200\n",
      "302/302 [==============================] - 0s 1ms/step - loss: 5.8578 - mae: 1.7547 - val_loss: 13.4781 - val_mae: 2.4367\n",
      "Epoch 70/200\n",
      "302/302 [==============================] - 0s 1ms/step - loss: 4.6880 - mae: 1.5606 - val_loss: 9.5277 - val_mae: 2.1107\n",
      "Epoch 71/200\n",
      "302/302 [==============================] - 0s 996us/step - loss: 5.9691 - mae: 1.7349 - val_loss: 9.7904 - val_mae: 2.0707\n",
      "Epoch 72/200\n",
      "302/302 [==============================] - 0s 1ms/step - loss: 9.4234 - mae: 1.9563 - val_loss: 12.9486 - val_mae: 2.4018\n",
      "Epoch 73/200\n",
      "302/302 [==============================] - 0s 1ms/step - loss: 7.5313 - mae: 1.8886 - val_loss: 12.8263 - val_mae: 2.5246\n",
      "Epoch 74/200\n",
      "302/302 [==============================] - 0s 983us/step - loss: 4.8102 - mae: 1.6313 - val_loss: 21.6763 - val_mae: 2.8542\n",
      "Epoch 75/200\n",
      "302/302 [==============================] - 0s 1ms/step - loss: 11.4996 - mae: 2.1387 - val_loss: 9.8829 - val_mae: 2.1172\n",
      "Epoch 76/200\n",
      "302/302 [==============================] - 0s 986us/step - loss: 7.0532 - mae: 1.7738 - val_loss: 13.2890 - val_mae: 2.4463\n",
      "Epoch 77/200\n",
      "302/302 [==============================] - 0s 986us/step - loss: 6.8828 - mae: 1.8502 - val_loss: 8.9686 - val_mae: 2.1255\n",
      "Epoch 78/200\n",
      "302/302 [==============================] - 0s 1ms/step - loss: 5.0439 - mae: 1.6721 - val_loss: 12.0164 - val_mae: 2.3965\n",
      "Epoch 79/200\n",
      "302/302 [==============================] - 0s 1ms/step - loss: 5.2521 - mae: 1.6715 - val_loss: 17.0116 - val_mae: 2.6414\n",
      "Epoch 80/200\n",
      "302/302 [==============================] - 0s 1ms/step - loss: 6.7095 - mae: 1.8235 - val_loss: 9.1305 - val_mae: 2.1058\n",
      "Epoch 81/200\n",
      "302/302 [==============================] - 0s 1ms/step - loss: 7.1552 - mae: 1.8424 - val_loss: 8.5412 - val_mae: 2.1235\n",
      "Epoch 82/200\n",
      "302/302 [==============================] - 0s 1ms/step - loss: 4.5239 - mae: 1.5674 - val_loss: 12.1039 - val_mae: 2.6349\n",
      "Epoch 83/200\n",
      "302/302 [==============================] - 0s 996us/step - loss: 4.7060 - mae: 1.6128 - val_loss: 7.6816 - val_mae: 1.9628\n",
      "Epoch 84/200\n",
      "302/302 [==============================] - 0s 989us/step - loss: 5.8072 - mae: 1.6532 - val_loss: 10.5242 - val_mae: 2.3419\n",
      "Epoch 85/200\n",
      "302/302 [==============================] - 0s 993us/step - loss: 5.2308 - mae: 1.5599 - val_loss: 10.0680 - val_mae: 2.3596\n",
      "Epoch 86/200\n",
      "302/302 [==============================] - 0s 1ms/step - loss: 4.2570 - mae: 1.4906 - val_loss: 9.8967 - val_mae: 2.2121\n",
      "Epoch 87/200\n",
      "302/302 [==============================] - 0s 996us/step - loss: 3.2842 - mae: 1.3799 - val_loss: 9.5044 - val_mae: 2.2100\n",
      "Epoch 88/200\n",
      "302/302 [==============================] - 0s 993us/step - loss: 3.5511 - mae: 1.4179 - val_loss: 10.3406 - val_mae: 2.2642\n",
      "Epoch 89/200\n",
      "302/302 [==============================] - 0s 1ms/step - loss: 3.8226 - mae: 1.4684 - val_loss: 7.5819 - val_mae: 1.9563\n",
      "Epoch 90/200\n",
      "302/302 [==============================] - 0s 1ms/step - loss: 3.4925 - mae: 1.4114 - val_loss: 8.8609 - val_mae: 2.0345\n",
      "Epoch 91/200\n",
      "302/302 [==============================] - 0s 1ms/step - loss: 5.2304 - mae: 1.6144 - val_loss: 7.9562 - val_mae: 2.0085\n",
      "Epoch 92/200\n",
      "302/302 [==============================] - 0s 996us/step - loss: 3.3625 - mae: 1.3730 - val_loss: 8.8027 - val_mae: 2.0597\n",
      "Epoch 93/200\n",
      "302/302 [==============================] - 0s 999us/step - loss: 4.0835 - mae: 1.4634 - val_loss: 10.1462 - val_mae: 2.1635\n",
      "Epoch 94/200\n",
      "302/302 [==============================] - 0s 996us/step - loss: 3.4660 - mae: 1.3854 - val_loss: 8.8972 - val_mae: 2.0804\n",
      "Epoch 95/200\n",
      "302/302 [==============================] - 0s 986us/step - loss: 3.9085 - mae: 1.4696 - val_loss: 10.0115 - val_mae: 2.2120\n",
      "Epoch 96/200\n",
      "302/302 [==============================] - 0s 999us/step - loss: 2.9083 - mae: 1.3119 - val_loss: 9.0890 - val_mae: 2.1537\n",
      "Epoch 97/200\n",
      "302/302 [==============================] - 0s 989us/step - loss: 3.2637 - mae: 1.3113 - val_loss: 9.8622 - val_mae: 2.1458\n",
      "Epoch 98/200\n",
      "302/302 [==============================] - 0s 1ms/step - loss: 2.5418 - mae: 1.2291 - val_loss: 14.2783 - val_mae: 2.4504\n",
      "Epoch 99/200\n",
      "302/302 [==============================] - 0s 1ms/step - loss: 3.7714 - mae: 1.3909 - val_loss: 9.2599 - val_mae: 2.0498\n",
      "Epoch 100/200\n",
      "302/302 [==============================] - 0s 999us/step - loss: 3.5715 - mae: 1.3676 - val_loss: 11.1312 - val_mae: 2.3546\n",
      "Epoch 101/200\n",
      "302/302 [==============================] - 0s 1ms/step - loss: 4.9010 - mae: 1.4824 - val_loss: 9.5871 - val_mae: 2.1920\n",
      "Epoch 102/200\n",
      "302/302 [==============================] - 0s 1ms/step - loss: 3.9989 - mae: 1.3584 - val_loss: 15.5959 - val_mae: 2.6523\n",
      "Epoch 103/200\n",
      "302/302 [==============================] - 0s 1ms/step - loss: 3.1525 - mae: 1.2832 - val_loss: 8.9123 - val_mae: 2.2028\n",
      "Epoch 104/200\n",
      "302/302 [==============================] - 0s 1ms/step - loss: 4.3983 - mae: 1.4822 - val_loss: 8.7044 - val_mae: 2.0272\n",
      "Epoch 105/200\n",
      "302/302 [==============================] - 0s 1ms/step - loss: 4.9201 - mae: 1.5529 - val_loss: 13.1020 - val_mae: 2.5022\n",
      "Epoch 106/200\n",
      "302/302 [==============================] - 0s 1ms/step - loss: 3.4490 - mae: 1.3536 - val_loss: 8.2533 - val_mae: 2.0604\n",
      "Epoch 107/200\n",
      "302/302 [==============================] - 0s 1ms/step - loss: 3.0628 - mae: 1.2912 - val_loss: 8.0711 - val_mae: 2.0073\n",
      "Epoch 108/200\n",
      "302/302 [==============================] - 0s 1ms/step - loss: 3.1960 - mae: 1.2481 - val_loss: 18.6070 - val_mae: 2.6905\n",
      "Epoch 109/200\n",
      "302/302 [==============================] - 0s 1ms/step - loss: 4.3530 - mae: 1.3057 - val_loss: 10.8413 - val_mae: 2.3059\n",
      "Epoch 110/200\n",
      "302/302 [==============================] - 0s 1ms/step - loss: 3.7260 - mae: 1.4142 - val_loss: 9.3809 - val_mae: 2.1113\n",
      "Epoch 111/200\n",
      "302/302 [==============================] - 0s 1ms/step - loss: 3.2206 - mae: 1.3070 - val_loss: 9.8131 - val_mae: 2.3171\n",
      "Epoch 112/200\n",
      "302/302 [==============================] - 0s 1ms/step - loss: 3.5481 - mae: 1.3140 - val_loss: 11.3599 - val_mae: 2.3390\n",
      "Epoch 113/200\n",
      "302/302 [==============================] - 0s 1ms/step - loss: 4.3547 - mae: 1.4551 - val_loss: 11.1761 - val_mae: 2.2552\n",
      "Epoch 114/200\n",
      "302/302 [==============================] - 0s 1ms/step - loss: 3.1669 - mae: 1.2598 - val_loss: 7.9877 - val_mae: 2.0185\n",
      "Epoch 115/200\n",
      "302/302 [==============================] - 0s 1ms/step - loss: 5.4506 - mae: 1.4949 - val_loss: 9.5569 - val_mae: 2.0400\n",
      "Epoch 116/200\n",
      "302/302 [==============================] - 0s 993us/step - loss: 5.1328 - mae: 1.5713 - val_loss: 8.5272 - val_mae: 1.9849\n",
      "Epoch 117/200\n",
      "302/302 [==============================] - 0s 1ms/step - loss: 3.9684 - mae: 1.4088 - val_loss: 7.5957 - val_mae: 1.9830\n",
      "Epoch 118/200\n",
      "302/302 [==============================] - 0s 1ms/step - loss: 2.7695 - mae: 1.2141 - val_loss: 12.1519 - val_mae: 2.3478\n",
      "Epoch 119/200\n",
      "302/302 [==============================] - 0s 1ms/step - loss: 2.6662 - mae: 1.2252 - val_loss: 11.8494 - val_mae: 2.4167\n",
      "Epoch 120/200\n",
      "302/302 [==============================] - 0s 1ms/step - loss: 1.9922 - mae: 1.1062 - val_loss: 8.3813 - val_mae: 1.9818\n",
      "Epoch 121/200\n"
     ]
    },
    {
     "name": "stdout",
     "output_type": "stream",
     "text": [
      "302/302 [==============================] - 0s 1ms/step - loss: 2.5948 - mae: 1.1685 - val_loss: 9.4676 - val_mae: 2.0774\n",
      "Epoch 122/200\n",
      "302/302 [==============================] - 1s 2ms/step - loss: 3.1474 - mae: 1.2519 - val_loss: 8.9020 - val_mae: 2.0745\n",
      "Epoch 123/200\n",
      "302/302 [==============================] - 0s 2ms/step - loss: 2.5716 - mae: 1.1811 - val_loss: 7.4416 - val_mae: 1.9117\n",
      "Epoch 124/200\n",
      "302/302 [==============================] - 1s 2ms/step - loss: 2.7913 - mae: 1.1991 - val_loss: 8.9534 - val_mae: 2.0127\n",
      "Epoch 125/200\n",
      "302/302 [==============================] - 1s 2ms/step - loss: 2.7774 - mae: 1.2133 - val_loss: 9.2729 - val_mae: 2.2266\n",
      "Epoch 126/200\n",
      "302/302 [==============================] - 1s 2ms/step - loss: 2.3178 - mae: 1.1251 - val_loss: 7.6764 - val_mae: 1.8625\n",
      "Epoch 127/200\n",
      "302/302 [==============================] - 1s 2ms/step - loss: 2.1249 - mae: 1.0759 - val_loss: 9.7733 - val_mae: 2.1510\n",
      "Epoch 128/200\n",
      "302/302 [==============================] - 0s 1ms/step - loss: 2.2332 - mae: 1.1071 - val_loss: 9.9746 - val_mae: 2.2034\n",
      "Epoch 129/200\n",
      "302/302 [==============================] - 0s 1ms/step - loss: 2.2133 - mae: 1.1084 - val_loss: 8.3561 - val_mae: 1.9886\n",
      "Epoch 130/200\n",
      "302/302 [==============================] - 0s 1ms/step - loss: 1.9912 - mae: 1.0437 - val_loss: 11.9875 - val_mae: 2.3545\n",
      "Epoch 131/200\n",
      "302/302 [==============================] - 0s 1ms/step - loss: 2.2647 - mae: 1.1198 - val_loss: 8.7633 - val_mae: 2.2114\n",
      "Epoch 132/200\n",
      "302/302 [==============================] - 0s 1ms/step - loss: 1.8812 - mae: 1.0426 - val_loss: 8.1111 - val_mae: 1.9741\n",
      "Epoch 133/200\n",
      "302/302 [==============================] - 0s 1ms/step - loss: 2.3059 - mae: 1.1002 - val_loss: 9.0749 - val_mae: 2.0516\n",
      "Epoch 134/200\n",
      "302/302 [==============================] - 0s 1ms/step - loss: 2.6829 - mae: 1.1854 - val_loss: 10.9296 - val_mae: 2.2029\n",
      "Epoch 135/200\n",
      "302/302 [==============================] - 0s 1ms/step - loss: 1.9473 - mae: 1.0409 - val_loss: 9.8975 - val_mae: 2.1052\n",
      "Epoch 136/200\n",
      "302/302 [==============================] - 0s 2ms/step - loss: 2.0297 - mae: 1.0284 - val_loss: 8.0924 - val_mae: 1.9917\n",
      "Epoch 137/200\n",
      "302/302 [==============================] - 0s 1ms/step - loss: 2.9262 - mae: 1.2205 - val_loss: 8.7874 - val_mae: 2.0778\n",
      "Epoch 138/200\n",
      "302/302 [==============================] - 0s 1ms/step - loss: 2.1339 - mae: 1.0721 - val_loss: 9.1313 - val_mae: 2.0363\n",
      "Epoch 139/200\n",
      "302/302 [==============================] - 0s 1ms/step - loss: 3.2273 - mae: 1.1772 - val_loss: 11.3249 - val_mae: 2.2056\n",
      "Epoch 140/200\n",
      "302/302 [==============================] - 0s 1ms/step - loss: 1.9794 - mae: 1.0487 - val_loss: 8.5252 - val_mae: 1.9478\n",
      "Epoch 141/200\n",
      "302/302 [==============================] - 0s 1ms/step - loss: 1.9588 - mae: 1.0449 - val_loss: 8.8270 - val_mae: 2.0174\n",
      "Epoch 142/200\n",
      "302/302 [==============================] - 0s 1ms/step - loss: 2.3239 - mae: 1.0803 - val_loss: 9.0814 - val_mae: 2.0460\n",
      "Epoch 143/200\n",
      "302/302 [==============================] - 0s 1ms/step - loss: 3.1463 - mae: 1.2457 - val_loss: 9.3763 - val_mae: 2.0669\n",
      "Epoch 144/200\n",
      "302/302 [==============================] - 0s 1ms/step - loss: 3.7531 - mae: 1.3207 - val_loss: 7.5989 - val_mae: 1.9718\n",
      "Epoch 145/200\n",
      "302/302 [==============================] - 0s 1ms/step - loss: 2.2678 - mae: 1.0807 - val_loss: 7.6855 - val_mae: 1.8960\n",
      "Epoch 146/200\n",
      "302/302 [==============================] - 0s 1ms/step - loss: 2.6774 - mae: 1.1986 - val_loss: 8.1903 - val_mae: 1.9442\n",
      "Epoch 147/200\n",
      "302/302 [==============================] - 0s 1ms/step - loss: 1.8422 - mae: 0.9922 - val_loss: 8.9805 - val_mae: 2.2686\n",
      "Epoch 148/200\n",
      "302/302 [==============================] - 0s 1ms/step - loss: 2.3610 - mae: 1.1237 - val_loss: 7.7848 - val_mae: 1.9554\n",
      "Epoch 149/200\n",
      "302/302 [==============================] - 0s 1ms/step - loss: 1.9886 - mae: 1.0301 - val_loss: 8.8594 - val_mae: 2.0220\n",
      "Epoch 150/200\n",
      "302/302 [==============================] - 0s 986us/step - loss: 1.7741 - mae: 1.0087 - val_loss: 8.6379 - val_mae: 2.0056\n",
      "Epoch 151/200\n",
      "302/302 [==============================] - 0s 1ms/step - loss: 1.9809 - mae: 0.9899 - val_loss: 9.2834 - val_mae: 2.1024\n",
      "Epoch 152/200\n",
      "302/302 [==============================] - 0s 1ms/step - loss: 3.0982 - mae: 1.1505 - val_loss: 7.5246 - val_mae: 1.9436\n",
      "Epoch 153/200\n",
      "302/302 [==============================] - 0s 1ms/step - loss: 3.5054 - mae: 1.1622 - val_loss: 11.4975 - val_mae: 2.5592\n",
      "Epoch 154/200\n",
      "302/302 [==============================] - 0s 1ms/step - loss: 2.5464 - mae: 1.1308 - val_loss: 11.0043 - val_mae: 2.3165\n",
      "Epoch 155/200\n",
      "302/302 [==============================] - 0s 1ms/step - loss: 2.5241 - mae: 1.0884 - val_loss: 10.1831 - val_mae: 2.1663\n",
      "Epoch 156/200\n",
      "302/302 [==============================] - 0s 1ms/step - loss: 2.1541 - mae: 1.0564 - val_loss: 9.4644 - val_mae: 2.0778\n",
      "Epoch 157/200\n",
      "302/302 [==============================] - 0s 1ms/step - loss: 2.3478 - mae: 1.0897 - val_loss: 10.9381 - val_mae: 2.2662\n",
      "Epoch 158/200\n",
      "302/302 [==============================] - 0s 1ms/step - loss: 2.2140 - mae: 1.1111 - val_loss: 7.8756 - val_mae: 1.9636\n",
      "Epoch 159/200\n",
      "302/302 [==============================] - 0s 1ms/step - loss: 2.0809 - mae: 1.0368 - val_loss: 8.9683 - val_mae: 2.0956\n",
      "Epoch 160/200\n",
      "302/302 [==============================] - 0s 1ms/step - loss: 1.9461 - mae: 1.0062 - val_loss: 7.8372 - val_mae: 1.8918\n",
      "Epoch 161/200\n",
      "302/302 [==============================] - 0s 1ms/step - loss: 1.7507 - mae: 0.9290 - val_loss: 8.2549 - val_mae: 2.0319\n",
      "Epoch 162/200\n",
      "302/302 [==============================] - 0s 1ms/step - loss: 1.6467 - mae: 0.9388 - val_loss: 8.0216 - val_mae: 1.9865\n",
      "Epoch 163/200\n",
      "302/302 [==============================] - 0s 1ms/step - loss: 1.7197 - mae: 0.9761 - val_loss: 8.1264 - val_mae: 2.0255\n",
      "Epoch 164/200\n",
      "302/302 [==============================] - 0s 1ms/step - loss: 1.4377 - mae: 0.8848 - val_loss: 8.2850 - val_mae: 1.9503\n",
      "Epoch 165/200\n",
      "302/302 [==============================] - 0s 1ms/step - loss: 1.8628 - mae: 0.9716 - val_loss: 8.7447 - val_mae: 2.0157\n",
      "Epoch 166/200\n",
      "302/302 [==============================] - 0s 1ms/step - loss: 1.7585 - mae: 0.9491 - val_loss: 8.6887 - val_mae: 2.0346\n",
      "Epoch 167/200\n",
      "302/302 [==============================] - 0s 1ms/step - loss: 1.9680 - mae: 0.9811 - val_loss: 8.5775 - val_mae: 2.0187\n",
      "Epoch 168/200\n",
      "302/302 [==============================] - 0s 1ms/step - loss: 1.7893 - mae: 0.9401 - val_loss: 10.7874 - val_mae: 2.2253\n",
      "Epoch 169/200\n",
      "302/302 [==============================] - 1s 2ms/step - loss: 1.5851 - mae: 0.9156 - val_loss: 9.4283 - val_mae: 2.0979\n",
      "Epoch 170/200\n",
      "302/302 [==============================] - 1s 2ms/step - loss: 1.9070 - mae: 0.9544 - val_loss: 9.4312 - val_mae: 2.1420\n",
      "Epoch 171/200\n",
      "302/302 [==============================] - 1s 2ms/step - loss: 1.8931 - mae: 0.9349 - val_loss: 8.5873 - val_mae: 2.0408\n",
      "Epoch 172/200\n",
      "302/302 [==============================] - 1s 2ms/step - loss: 1.8399 - mae: 0.9541 - val_loss: 8.8076 - val_mae: 2.0749\n",
      "Epoch 173/200\n",
      "302/302 [==============================] - 0s 1ms/step - loss: 2.3931 - mae: 1.0481 - val_loss: 8.5440 - val_mae: 2.1331\n",
      "Epoch 174/200\n",
      "302/302 [==============================] - 0s 1ms/step - loss: 1.7366 - mae: 0.9363 - val_loss: 8.0041 - val_mae: 2.0383\n",
      "Epoch 175/200\n",
      "302/302 [==============================] - 0s 2ms/step - loss: 1.3818 - mae: 0.8841 - val_loss: 8.2875 - val_mae: 2.0886\n",
      "Epoch 176/200\n",
      "302/302 [==============================] - 0s 1ms/step - loss: 1.5285 - mae: 0.8641 - val_loss: 9.0443 - val_mae: 2.2890\n",
      "Epoch 177/200\n",
      "302/302 [==============================] - 0s 1ms/step - loss: 1.8817 - mae: 0.9656 - val_loss: 7.3409 - val_mae: 1.9309\n",
      "Epoch 178/200\n",
      "302/302 [==============================] - 0s 1ms/step - loss: 1.5705 - mae: 0.8986 - val_loss: 8.3429 - val_mae: 1.9657\n",
      "Epoch 179/200\n",
      "302/302 [==============================] - 0s 1ms/step - loss: 1.9421 - mae: 0.9706 - val_loss: 8.9838 - val_mae: 2.0763\n",
      "Epoch 180/200\n",
      "302/302 [==============================] - 0s 1ms/step - loss: 1.4150 - mae: 0.8511 - val_loss: 9.6485 - val_mae: 2.0955\n",
      "Epoch 181/200\n",
      "302/302 [==============================] - 0s 1ms/step - loss: 1.1655 - mae: 0.8108 - val_loss: 7.8398 - val_mae: 1.9972\n"
     ]
    },
    {
     "name": "stdout",
     "output_type": "stream",
     "text": [
      "Epoch 182/200\n",
      "302/302 [==============================] - 0s 1ms/step - loss: 1.4424 - mae: 0.9059 - val_loss: 10.0539 - val_mae: 2.1886\n",
      "Epoch 183/200\n",
      "302/302 [==============================] - 0s 1ms/step - loss: 1.4484 - mae: 0.8626 - val_loss: 11.3501 - val_mae: 2.3116\n",
      "Epoch 184/200\n",
      "302/302 [==============================] - 0s 1ms/step - loss: 1.4436 - mae: 0.8676 - val_loss: 7.7137 - val_mae: 1.9705\n",
      "Epoch 185/200\n",
      "302/302 [==============================] - 0s 1ms/step - loss: 1.6204 - mae: 0.9018 - val_loss: 7.1176 - val_mae: 1.9045\n",
      "Epoch 186/200\n",
      "302/302 [==============================] - 0s 1ms/step - loss: 1.3305 - mae: 0.8471 - val_loss: 8.0109 - val_mae: 2.0320\n",
      "Epoch 187/200\n",
      "302/302 [==============================] - 0s 989us/step - loss: 1.2752 - mae: 0.8046 - val_loss: 9.2220 - val_mae: 2.1156\n",
      "Epoch 188/200\n",
      "302/302 [==============================] - 0s 996us/step - loss: 1.4454 - mae: 0.8568 - val_loss: 9.7870 - val_mae: 2.1735\n",
      "Epoch 189/200\n",
      "302/302 [==============================] - 0s 1ms/step - loss: 1.2534 - mae: 0.8157 - val_loss: 10.2942 - val_mae: 2.2059\n",
      "Epoch 190/200\n",
      "302/302 [==============================] - 0s 1ms/step - loss: 1.3742 - mae: 0.8420 - val_loss: 7.7227 - val_mae: 1.9889\n",
      "Epoch 191/200\n",
      "302/302 [==============================] - 0s 989us/step - loss: 1.3070 - mae: 0.8025 - val_loss: 9.1633 - val_mae: 2.1129\n",
      "Epoch 192/200\n",
      "302/302 [==============================] - 0s 983us/step - loss: 1.3652 - mae: 0.8499 - val_loss: 7.9274 - val_mae: 1.9418\n",
      "Epoch 193/200\n",
      "302/302 [==============================] - 0s 1ms/step - loss: 1.2664 - mae: 0.8206 - val_loss: 8.0010 - val_mae: 2.0119\n",
      "Epoch 194/200\n",
      "302/302 [==============================] - 0s 1ms/step - loss: 1.4058 - mae: 0.8702 - val_loss: 8.3331 - val_mae: 1.9745\n",
      "Epoch 195/200\n",
      "302/302 [==============================] - 0s 1ms/step - loss: 0.9758 - mae: 0.7133 - val_loss: 8.4860 - val_mae: 2.0256\n",
      "Epoch 196/200\n",
      "302/302 [==============================] - 0s 1ms/step - loss: 1.1980 - mae: 0.7512 - val_loss: 8.8714 - val_mae: 2.0796\n",
      "Epoch 197/200\n",
      "302/302 [==============================] - 0s 999us/step - loss: 1.4020 - mae: 0.8441 - val_loss: 8.8611 - val_mae: 2.1257\n",
      "Epoch 198/200\n",
      "302/302 [==============================] - 0s 999us/step - loss: 1.8876 - mae: 0.9651 - val_loss: 9.0713 - val_mae: 2.0882\n",
      "Epoch 199/200\n",
      "302/302 [==============================] - 0s 1ms/step - loss: 1.7867 - mae: 0.9327 - val_loss: 9.2395 - val_mae: 2.3277\n",
      "Epoch 200/200\n",
      "302/302 [==============================] - 0s 1ms/step - loss: 1.9342 - mae: 0.9509 - val_loss: 9.5172 - val_mae: 2.1228\n"
     ]
    }
   ],
   "source": [
    "hist = model.fit( x = train_data, \n",
    "                  y = train_targets, \n",
    "                  epochs = 200, \n",
    "                  batch_size = 1, \n",
    "                  validation_data = ( val_data, val_targets ), \n",
    "                  verbose = 1)"
   ]
  },
  {
   "cell_type": "code",
   "execution_count": 48,
   "id": "OWsTVS6G6RPO",
   "metadata": {
    "colab": {
     "base_uri": "https://localhost:8080/",
     "height": 530
    },
    "id": "OWsTVS6G6RPO",
    "outputId": "124fc37f-ef6a-4415-d94a-ffc50fa8d30e"
   },
   "outputs": [
    {
     "data": {
      "text/plain": [
       "<matplotlib.legend.Legend at 0x1f7db6f28b0>"
      ]
     },
     "execution_count": 48,
     "metadata": {},
     "output_type": "execute_result"
    },
    {
     "data": {
      "image/png": "[encoded data removed]",
      "text/plain": [
       "<Figure size 1152x576 with 2 Axes>"
      ]
     },
     "metadata": {
      "needs_background": "light"
     },
     "output_type": "display_data"
    }
   ],
   "source": [
    "# Plotando os resultados obtidos\n",
    "fig, axes = plt.subplots(1, 2, squeeze = False, figsize = (16,8))\n",
    "\n",
    "history_dict = hist.history\n",
    "\n",
    "# Loss - MSE\n",
    "train_loss_values = history_dict[\"loss\"]\n",
    "val_loss_values = history_dict[\"val_loss\"]\n",
    "\n",
    "# Epochs\n",
    "epochs = range(1, len(train_loss_values) + 1)\n",
    "\n",
    "# Metrica - MAE\n",
    "train_mae_values = history_dict[\"mae\"]\n",
    "val_mae_values = history_dict[\"val_mae\"]\n",
    "\n",
    "ax = axes.flat[0]\n",
    "ax.plot(epochs, train_loss_values, \"r\", label = \"Training MSE\")\n",
    "ax.plot(epochs, val_loss_values, \"b\", label = \"Validation MSE\")\n",
    "ax.set_title(\"Training and Validation MSE\")\n",
    "ax.set_xlabel(\"Epochs\")\n",
    "ax.set_ylabel(\"MSE\")\n",
    "ax.legend()\n",
    "\n",
    "ax = axes.flat[1]\n",
    "ax.plot(epochs, train_mae_values, \"r\", label=\"Training MAE\")\n",
    "ax.plot(epochs, val_mae_values, \"b\", label=\"Validation MAE\")\n",
    "ax.set_title(\"Training and Validation MAE\")\n",
    "ax.set_xlabel(\"Epochs\")\n",
    "ax.set_ylabel(\"MSE\")\n",
    "ax.legend()"
   ]
  },
  {
   "cell_type": "markdown",
   "id": "IDae0lEH6RPP",
   "metadata": {
    "id": "IDae0lEH6RPP"
   },
   "source": [
    "**g. Comente os resultados obtidos nos gráficos acima. Houve overfitting? Se sim, o que pode ser feito para melhorar a qualidade do modelo?**"
   ]
  },
  {
   "cell_type": "markdown",
   "id": "2MtApXHBlDWk",
   "metadata": {
    "id": "2MtApXHBlDWk"
   },
   "source": [
    "**Resposta:**\n",
    "\n",
    "O que desejamos é que os gráficos sejam os mais parecidos o possível, principalmente nos dados de teste. Nesse caso houve overfitting e poderíamos evitar com a redução do número de variáveis, regularização, entre outros.   "
   ]
  },
  {
   "cell_type": "markdown",
   "id": "gmna8qK36RPQ",
   "metadata": {
    "id": "gmna8qK36RPQ"
   },
   "source": [
    "**h. Modifique hiperparâmetros do modelo como o número de camadas, as funções de ativação, o número de épocas realizas e o tamanho dos lotes. Comente os resultados obtidos a partir das mudanças realizadas.**"
   ]
  },
  {
   "cell_type": "markdown",
   "id": "Hwh6rZTtlE-H",
   "metadata": {
    "id": "Hwh6rZTtlE-H"
   },
   "source": [
    "**Resposta:**\n",
    "\n",
    "Podemos observar algumas diferenças no gráfico, onde pude observar que a quantidade de épocas interfere muito, já que ela decide quantas vezes será a passagem dos dados de treino pela rede, ou seja, quanto maior a quantidade, melhor o resultado."
   ]
  },
  {
   "cell_type": "markdown",
   "id": "rUG4x_zJ6RPS",
   "metadata": {
    "id": "rUG4x_zJ6RPS"
   },
   "source": [
    "### 1.4 Teste do modelo\n",
    "\n",
    "O teste do modelo pode ser realizado a partir da função **evaluate**, que recebe os dados de treino e retorna o valor de loss calculado para esse conjunto e os valores de cada métrica da lista fornecida durante a compilação do modelo. \n",
    "\n",
    "* É uma prática comum realizar ajustes no modelo com base no conjunto de validação e só utilizar o conjunto de testes após a definição dos hiperparâmetros definitivos.\n",
    "* Como os hiperparâmetros são ajustados a partir dos resultados obtidos para o conjunto de validação, o modelo pode acabar. sobreajustando aos dados de validação, então é interessante mudar os dados desse conjunto com frequência.\n",
    "* Para mudar os dados de validação basta alterar a semente na função train_test_split.\n",
    "* Crie um novo modelo do zero após a realização de mudanças nos conjuntos de treino/validação."
   ]
  },
  {
   "cell_type": "code",
   "execution_count": 49,
   "id": "q93KRy376RPT",
   "metadata": {
    "colab": {
     "base_uri": "https://localhost:8080/"
    },
    "id": "q93KRy376RPT",
    "outputId": "e92fb03d-40ad-4763-9dc3-6ba793147960"
   },
   "outputs": [
    {
     "name": "stdout",
     "output_type": "stream",
     "text": [
      "4/4 [==============================] - 0s 2ms/step - loss: 24.5148 - mae: 2.8829\n",
      "Erro médio absoluto de teste: $2882.90\n"
     ]
    }
   ],
   "source": [
    "test_mse, test_mae = model.evaluate( test_data, test_targets)\n",
    "\n",
    "# Observa-se que os dados de saída são normalizados em milhares de dólares, \n",
    "# então é necessário multiplicar por 1000 para obter os valores absolutos\n",
    "print(\"Erro médio absoluto de teste: ${:.2f}\".format(1000*test_mae))"
   ]
  },
  {
   "cell_type": "markdown",
   "id": "zdPrwi326RPT",
   "metadata": {
    "id": "zdPrwi326RPT"
   },
   "source": [
    "**i. Verifique novamente a faixa de valores dos gabaritos no banco de dados. Considerando a extensão dessa faixa de valores, pode-se dizer que as predições do modelo são significativas?**"
   ]
  },
  {
   "cell_type": "code",
   "execution_count": 50,
   "id": "-_jh-XzI6RPV",
   "metadata": {
    "colab": {
     "base_uri": "https://localhost:8080/"
    },
    "id": "-_jh-XzI6RPV",
    "outputId": "212a5303-3029-4d27-f417-1abd6b7d9090"
   },
   "outputs": [
    {
     "name": "stdout",
     "output_type": "stream",
     "text": [
      "Limites: (min: 5.00 , max: 50.00) | Média: 22.87 | Variância: 90.36\n"
     ]
    }
   ],
   "source": [
    "#Gabaraito do conjunto treino\n",
    "\n",
    "print('Limites: (min: {:.2f} , max: {:.2f}) | Média: {:.2f} | Variância: {:.2f}'.format(np.min(train_targets,axis = 0), \n",
    "np.max(train_targets), np.mean(train_targets), np.var(train_targets)))"
   ]
  },
  {
   "cell_type": "code",
   "execution_count": 51,
   "id": "S0qpzWDXLtZJ",
   "metadata": {
    "colab": {
     "base_uri": "https://localhost:8080/"
    },
    "id": "S0qpzWDXLtZJ",
    "outputId": "c62c03ee-e769-42bd-8baf-b29d92d36f04"
   },
   "outputs": [
    {
     "name": "stdout",
     "output_type": "stream",
     "text": [
      "Limites: (min: 5.60 , max: 50.00) | Média: 23.08 | Variância: 83.24\n"
     ]
    }
   ],
   "source": [
    "#Gabaraito do conjunto teste\n",
    "\n",
    "print('Limites: (min: {:.2f} , max: {:.2f}) | Média: {:.2f} | Variância: {:.2f}'.format(np.min(test_targets,axis = 0), \n",
    "np.max(test_targets), np.mean(test_targets), np.var(test_targets)))"
   ]
  },
  {
   "cell_type": "markdown",
   "id": "dm1PVU0F-6ww",
   "metadata": {
    "id": "dm1PVU0F-6ww"
   },
   "source": [
    "Sim, as predições foram significativas. Observamos que os parâmetros mudaram. "
   ]
  },
  {
   "cell_type": "markdown",
   "id": "F7xGQPod6RPW",
   "metadata": {
    "id": "F7xGQPod6RPW"
   },
   "source": [
    "## Referências\n",
    "* Chollet, Francois. Deep learning with Python. Simon and Schuster, 2017."
   ]
  }
 ],
 "metadata": {
  "colab": {
   "collapsed_sections": [],
   "name": "Exp. 06 - Lab. Introdução ao Processamento Digital de Imagens e Visão Computacional sem Resp.ipynb",
   "provenance": []
  },
  "kernelspec": {
   "display_name": "Python 3",
   "language": "python",
   "name": "python3"
  },
  "language_info": {
   "codemirror_mode": {
    "name": "ipython",
    "version": 3
   },
   "file_extension": ".py",
   "mimetype": "text/x-python",
   "name": "python",
   "nbconvert_exporter": "python",
   "pygments_lexer": "ipython3",
   "version": "3.8.8"
  }
 },
 "nbformat": 4,
 "nbformat_minor": 5
}
